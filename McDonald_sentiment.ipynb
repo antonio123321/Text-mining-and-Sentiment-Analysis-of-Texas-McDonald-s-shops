{
 "cells": [
  {
   "cell_type": "markdown",
   "metadata": {},
   "source": [
    "# short description of the variables\n",
    "\n",
    "    reviewer_id: Unique identifier for each reviewer (anonymized)\n",
    "    store_name: Name of the McDonald's store\n",
    "    category: Category or type of the store\n",
    "    store_address: Address of the store\n",
    "    latitude: Latitude coordinate of the store's location\n",
    "    longitude: Longitude coordinate of the store's location\n",
    "    rating_count: Number of ratings/reviews for the store\n",
    "    review_time: Timestamp of the review\n",
    "    review: Textual content of the review\n",
    "    rating: Rating provided by the reviewer\n",
    "\n"
   ]
  },
  {
   "cell_type": "code",
   "execution_count": 1,
   "metadata": {
    "colab": {
     "base_uri": "https://localhost:8080/"
    },
    "id": "6wtjqt2ZAQcr",
    "outputId": "17e76b0e-0e18-4d6d-cba2-1a99acb86284"
   },
   "outputs": [
    {
     "name": "stderr",
     "output_type": "stream",
     "text": [
      "[nltk_data] Downloading package stopwords to\n",
      "[nltk_data]     C:\\Users\\anton\\AppData\\Roaming\\nltk_data...\n",
      "[nltk_data]   Package stopwords is already up-to-date!\n",
      "[nltk_data] Downloading package punkt to\n",
      "[nltk_data]     C:\\Users\\anton\\AppData\\Roaming\\nltk_data...\n",
      "[nltk_data]   Package punkt is already up-to-date!\n",
      "[nltk_data] Downloading package wordnet to\n",
      "[nltk_data]     C:\\Users\\anton\\AppData\\Roaming\\nltk_data...\n",
      "[nltk_data]   Package wordnet is already up-to-date!\n",
      "[nltk_data] Downloading package omw-1.4 to\n",
      "[nltk_data]     C:\\Users\\anton\\AppData\\Roaming\\nltk_data...\n",
      "[nltk_data]   Package omw-1.4 is already up-to-date!\n",
      "[nltk_data] Downloading package vader_lexicon to\n",
      "[nltk_data]     C:\\Users\\anton\\AppData\\Roaming\\nltk_data...\n",
      "[nltk_data]   Package vader_lexicon is already up-to-date!\n"
     ]
    },
    {
     "data": {
      "text/plain": [
       "True"
      ]
     },
     "execution_count": 1,
     "metadata": {},
     "output_type": "execute_result"
    }
   ],
   "source": [
    "import numpy as np\n",
    "import pandas as pd\n",
    "import matplotlib.pyplot as plt\n",
    "%matplotlib inline\n",
    "import seaborn as sns\n",
    "from wordcloud import WordCloud\n",
    "import nltk\n",
    "nltk.download(['stopwords',\n",
    "               'punkt',\n",
    "               'wordnet',\n",
    "               'omw-1.4',\n",
    "               'vader_lexicon'\n",
    "               ])\n"
   ]
  },
  {
   "cell_type": "code",
   "execution_count": 3,
   "metadata": {
    "colab": {
     "base_uri": "https://localhost:8080/",
     "height": 293
    },
    "id": "oZ0fc9v6AZoA",
    "outputId": "5c79a8de-566f-44af-892a-7713a7737f3a"
   },
   "outputs": [
    {
     "data": {
      "text/html": [
       "<div>\n",
       "<style scoped>\n",
       "    .dataframe tbody tr th:only-of-type {\n",
       "        vertical-align: middle;\n",
       "    }\n",
       "\n",
       "    .dataframe tbody tr th {\n",
       "        vertical-align: top;\n",
       "    }\n",
       "\n",
       "    .dataframe thead th {\n",
       "        text-align: right;\n",
       "    }\n",
       "</style>\n",
       "<table border=\"1\" class=\"dataframe\">\n",
       "  <thead>\n",
       "    <tr style=\"text-align: right;\">\n",
       "      <th></th>\n",
       "      <th>reviewer_id</th>\n",
       "      <th>store_name</th>\n",
       "      <th>category</th>\n",
       "      <th>store_address</th>\n",
       "      <th>latitude</th>\n",
       "      <th>longitude</th>\n",
       "      <th>rating_count</th>\n",
       "      <th>review_time</th>\n",
       "      <th>review</th>\n",
       "      <th>rating</th>\n",
       "    </tr>\n",
       "  </thead>\n",
       "  <tbody>\n",
       "    <tr>\n",
       "      <th>0</th>\n",
       "      <td>1</td>\n",
       "      <td>McDonald's</td>\n",
       "      <td>Fast food restaurant</td>\n",
       "      <td>13749 US-183 Hwy, Austin, TX 78750, United States</td>\n",
       "      <td>30.460718</td>\n",
       "      <td>-97.792874</td>\n",
       "      <td>1,240</td>\n",
       "      <td>3 months ago</td>\n",
       "      <td>Why does it look like someone spit on my food?...</td>\n",
       "      <td>1 star</td>\n",
       "    </tr>\n",
       "    <tr>\n",
       "      <th>1</th>\n",
       "      <td>2</td>\n",
       "      <td>McDonald's</td>\n",
       "      <td>Fast food restaurant</td>\n",
       "      <td>13749 US-183 Hwy, Austin, TX 78750, United States</td>\n",
       "      <td>30.460718</td>\n",
       "      <td>-97.792874</td>\n",
       "      <td>1,240</td>\n",
       "      <td>5 days ago</td>\n",
       "      <td>It'd McDonalds. It is what it is as far as the...</td>\n",
       "      <td>4 stars</td>\n",
       "    </tr>\n",
       "    <tr>\n",
       "      <th>2</th>\n",
       "      <td>3</td>\n",
       "      <td>McDonald's</td>\n",
       "      <td>Fast food restaurant</td>\n",
       "      <td>13749 US-183 Hwy, Austin, TX 78750, United States</td>\n",
       "      <td>30.460718</td>\n",
       "      <td>-97.792874</td>\n",
       "      <td>1,240</td>\n",
       "      <td>5 days ago</td>\n",
       "      <td>Made a mobile order got to the speaker and che...</td>\n",
       "      <td>1 star</td>\n",
       "    </tr>\n",
       "    <tr>\n",
       "      <th>3</th>\n",
       "      <td>4</td>\n",
       "      <td>McDonald's</td>\n",
       "      <td>Fast food restaurant</td>\n",
       "      <td>13749 US-183 Hwy, Austin, TX 78750, United States</td>\n",
       "      <td>30.460718</td>\n",
       "      <td>-97.792874</td>\n",
       "      <td>1,240</td>\n",
       "      <td>a month ago</td>\n",
       "      <td>My mc. Crispy chicken sandwich was ï¿½ï¿½ï¿½ï¿...</td>\n",
       "      <td>5 stars</td>\n",
       "    </tr>\n",
       "    <tr>\n",
       "      <th>4</th>\n",
       "      <td>5</td>\n",
       "      <td>McDonald's</td>\n",
       "      <td>Fast food restaurant</td>\n",
       "      <td>13749 US-183 Hwy, Austin, TX 78750, United States</td>\n",
       "      <td>30.460718</td>\n",
       "      <td>-97.792874</td>\n",
       "      <td>1,240</td>\n",
       "      <td>2 months ago</td>\n",
       "      <td>I repeat my order 3 times in the drive thru, a...</td>\n",
       "      <td>1 star</td>\n",
       "    </tr>\n",
       "    <tr>\n",
       "      <th>...</th>\n",
       "      <td>...</td>\n",
       "      <td>...</td>\n",
       "      <td>...</td>\n",
       "      <td>...</td>\n",
       "      <td>...</td>\n",
       "      <td>...</td>\n",
       "      <td>...</td>\n",
       "      <td>...</td>\n",
       "      <td>...</td>\n",
       "      <td>...</td>\n",
       "    </tr>\n",
       "    <tr>\n",
       "      <th>33391</th>\n",
       "      <td>33392</td>\n",
       "      <td>McDonald's</td>\n",
       "      <td>Fast food restaurant</td>\n",
       "      <td>3501 Biscayne Blvd, Miami, FL 33137, United St...</td>\n",
       "      <td>25.810000</td>\n",
       "      <td>-80.189098</td>\n",
       "      <td>2,810</td>\n",
       "      <td>4 years ago</td>\n",
       "      <td>They treated me very badly.</td>\n",
       "      <td>1 star</td>\n",
       "    </tr>\n",
       "    <tr>\n",
       "      <th>33392</th>\n",
       "      <td>33393</td>\n",
       "      <td>McDonald's</td>\n",
       "      <td>Fast food restaurant</td>\n",
       "      <td>3501 Biscayne Blvd, Miami, FL 33137, United St...</td>\n",
       "      <td>25.810000</td>\n",
       "      <td>-80.189098</td>\n",
       "      <td>2,810</td>\n",
       "      <td>a year ago</td>\n",
       "      <td>The service is very good</td>\n",
       "      <td>5 stars</td>\n",
       "    </tr>\n",
       "    <tr>\n",
       "      <th>33393</th>\n",
       "      <td>33394</td>\n",
       "      <td>McDonald's</td>\n",
       "      <td>Fast food restaurant</td>\n",
       "      <td>3501 Biscayne Blvd, Miami, FL 33137, United St...</td>\n",
       "      <td>25.810000</td>\n",
       "      <td>-80.189098</td>\n",
       "      <td>2,810</td>\n",
       "      <td>a year ago</td>\n",
       "      <td>To remove hunger is enough</td>\n",
       "      <td>4 stars</td>\n",
       "    </tr>\n",
       "    <tr>\n",
       "      <th>33394</th>\n",
       "      <td>33395</td>\n",
       "      <td>McDonald's</td>\n",
       "      <td>Fast food restaurant</td>\n",
       "      <td>3501 Biscayne Blvd, Miami, FL 33137, United St...</td>\n",
       "      <td>25.810000</td>\n",
       "      <td>-80.189098</td>\n",
       "      <td>2,810</td>\n",
       "      <td>5 years ago</td>\n",
       "      <td>It's good, but lately it has become very expen...</td>\n",
       "      <td>5 stars</td>\n",
       "    </tr>\n",
       "    <tr>\n",
       "      <th>33395</th>\n",
       "      <td>33396</td>\n",
       "      <td>McDonald's</td>\n",
       "      <td>Fast food restaurant</td>\n",
       "      <td>3501 Biscayne Blvd, Miami, FL 33137, United St...</td>\n",
       "      <td>25.810000</td>\n",
       "      <td>-80.189098</td>\n",
       "      <td>2,810</td>\n",
       "      <td>2 years ago</td>\n",
       "      <td>they took good care of me</td>\n",
       "      <td>5 stars</td>\n",
       "    </tr>\n",
       "  </tbody>\n",
       "</table>\n",
       "<p>33396 rows × 10 columns</p>\n",
       "</div>"
      ],
      "text/plain": [
       "       reviewer_id  store_name              category  \\\n",
       "0                1  McDonald's  Fast food restaurant   \n",
       "1                2  McDonald's  Fast food restaurant   \n",
       "2                3  McDonald's  Fast food restaurant   \n",
       "3                4  McDonald's  Fast food restaurant   \n",
       "4                5  McDonald's  Fast food restaurant   \n",
       "...            ...         ...                   ...   \n",
       "33391        33392  McDonald's  Fast food restaurant   \n",
       "33392        33393  McDonald's  Fast food restaurant   \n",
       "33393        33394  McDonald's  Fast food restaurant   \n",
       "33394        33395  McDonald's  Fast food restaurant   \n",
       "33395        33396  McDonald's  Fast food restaurant   \n",
       "\n",
       "                                           store_address  latitude   \\\n",
       "0      13749 US-183 Hwy, Austin, TX 78750, United States  30.460718   \n",
       "1      13749 US-183 Hwy, Austin, TX 78750, United States  30.460718   \n",
       "2      13749 US-183 Hwy, Austin, TX 78750, United States  30.460718   \n",
       "3      13749 US-183 Hwy, Austin, TX 78750, United States  30.460718   \n",
       "4      13749 US-183 Hwy, Austin, TX 78750, United States  30.460718   \n",
       "...                                                  ...        ...   \n",
       "33391  3501 Biscayne Blvd, Miami, FL 33137, United St...  25.810000   \n",
       "33392  3501 Biscayne Blvd, Miami, FL 33137, United St...  25.810000   \n",
       "33393  3501 Biscayne Blvd, Miami, FL 33137, United St...  25.810000   \n",
       "33394  3501 Biscayne Blvd, Miami, FL 33137, United St...  25.810000   \n",
       "33395  3501 Biscayne Blvd, Miami, FL 33137, United St...  25.810000   \n",
       "\n",
       "       longitude rating_count   review_time  \\\n",
       "0     -97.792874        1,240  3 months ago   \n",
       "1     -97.792874        1,240    5 days ago   \n",
       "2     -97.792874        1,240    5 days ago   \n",
       "3     -97.792874        1,240   a month ago   \n",
       "4     -97.792874        1,240  2 months ago   \n",
       "...          ...          ...           ...   \n",
       "33391 -80.189098        2,810   4 years ago   \n",
       "33392 -80.189098        2,810    a year ago   \n",
       "33393 -80.189098        2,810    a year ago   \n",
       "33394 -80.189098        2,810   5 years ago   \n",
       "33395 -80.189098        2,810   2 years ago   \n",
       "\n",
       "                                                  review   rating  \n",
       "0      Why does it look like someone spit on my food?...   1 star  \n",
       "1      It'd McDonalds. It is what it is as far as the...  4 stars  \n",
       "2      Made a mobile order got to the speaker and che...   1 star  \n",
       "3      My mc. Crispy chicken sandwich was ï¿½ï¿½ï¿½ï¿...  5 stars  \n",
       "4      I repeat my order 3 times in the drive thru, a...   1 star  \n",
       "...                                                  ...      ...  \n",
       "33391                        They treated me very badly.   1 star  \n",
       "33392                           The service is very good  5 stars  \n",
       "33393                         To remove hunger is enough  4 stars  \n",
       "33394  It's good, but lately it has become very expen...  5 stars  \n",
       "33395                          they took good care of me  5 stars  \n",
       "\n",
       "[33396 rows x 10 columns]"
      ]
     },
     "execution_count": 3,
     "metadata": {},
     "output_type": "execute_result"
    }
   ],
   "source": [
    "data=pd.read_csv('McDonald_s_Reviews.csv',encoding='latin-1')\n",
    "data"
   ]
  },
  {
   "cell_type": "code",
   "execution_count": 4,
   "metadata": {
    "colab": {
     "base_uri": "https://localhost:8080/",
     "height": 412
    },
    "id": "Xcn9L_-kCF6P",
    "outputId": "92c5727f-159d-487e-d263-7ffff4380e67"
   },
   "outputs": [
    {
     "data": {
      "text/html": [
       "<div>\n",
       "<style scoped>\n",
       "    .dataframe tbody tr th:only-of-type {\n",
       "        vertical-align: middle;\n",
       "    }\n",
       "\n",
       "    .dataframe tbody tr th {\n",
       "        vertical-align: top;\n",
       "    }\n",
       "\n",
       "    .dataframe thead th {\n",
       "        text-align: right;\n",
       "    }\n",
       "</style>\n",
       "<table border=\"1\" class=\"dataframe\">\n",
       "  <thead>\n",
       "    <tr style=\"text-align: right;\">\n",
       "      <th></th>\n",
       "      <th>reviewer_id</th>\n",
       "      <th>store_name</th>\n",
       "      <th>category</th>\n",
       "      <th>store_address</th>\n",
       "      <th>latitude</th>\n",
       "      <th>longitude</th>\n",
       "      <th>rating_count</th>\n",
       "      <th>review_time</th>\n",
       "      <th>review</th>\n",
       "      <th>rating</th>\n",
       "    </tr>\n",
       "  </thead>\n",
       "  <tbody>\n",
       "    <tr>\n",
       "      <th>count</th>\n",
       "      <td>33396.000000</td>\n",
       "      <td>33396</td>\n",
       "      <td>33396</td>\n",
       "      <td>33396</td>\n",
       "      <td>32736.000000</td>\n",
       "      <td>32736.000000</td>\n",
       "      <td>33396</td>\n",
       "      <td>33396</td>\n",
       "      <td>33396</td>\n",
       "      <td>33396</td>\n",
       "    </tr>\n",
       "    <tr>\n",
       "      <th>unique</th>\n",
       "      <td>NaN</td>\n",
       "      <td>2</td>\n",
       "      <td>1</td>\n",
       "      <td>40</td>\n",
       "      <td>NaN</td>\n",
       "      <td>NaN</td>\n",
       "      <td>51</td>\n",
       "      <td>39</td>\n",
       "      <td>22285</td>\n",
       "      <td>5</td>\n",
       "    </tr>\n",
       "    <tr>\n",
       "      <th>top</th>\n",
       "      <td>NaN</td>\n",
       "      <td>McDonald's</td>\n",
       "      <td>Fast food restaurant</td>\n",
       "      <td>9814 International Dr, Orlando, FL 32819, Unit...</td>\n",
       "      <td>NaN</td>\n",
       "      <td>NaN</td>\n",
       "      <td>2,810</td>\n",
       "      <td>4 years ago</td>\n",
       "      <td>Excellent</td>\n",
       "      <td>5 stars</td>\n",
       "    </tr>\n",
       "    <tr>\n",
       "      <th>freq</th>\n",
       "      <td>NaN</td>\n",
       "      <td>33325</td>\n",
       "      <td>33396</td>\n",
       "      <td>1890</td>\n",
       "      <td>NaN</td>\n",
       "      <td>NaN</td>\n",
       "      <td>1140</td>\n",
       "      <td>6740</td>\n",
       "      <td>2148</td>\n",
       "      <td>10274</td>\n",
       "    </tr>\n",
       "    <tr>\n",
       "      <th>mean</th>\n",
       "      <td>16698.500000</td>\n",
       "      <td>NaN</td>\n",
       "      <td>NaN</td>\n",
       "      <td>NaN</td>\n",
       "      <td>34.442546</td>\n",
       "      <td>-90.647033</td>\n",
       "      <td>NaN</td>\n",
       "      <td>NaN</td>\n",
       "      <td>NaN</td>\n",
       "      <td>NaN</td>\n",
       "    </tr>\n",
       "    <tr>\n",
       "      <th>std</th>\n",
       "      <td>9640.739131</td>\n",
       "      <td>NaN</td>\n",
       "      <td>NaN</td>\n",
       "      <td>NaN</td>\n",
       "      <td>5.344116</td>\n",
       "      <td>16.594844</td>\n",
       "      <td>NaN</td>\n",
       "      <td>NaN</td>\n",
       "      <td>NaN</td>\n",
       "      <td>NaN</td>\n",
       "    </tr>\n",
       "    <tr>\n",
       "      <th>min</th>\n",
       "      <td>1.000000</td>\n",
       "      <td>NaN</td>\n",
       "      <td>NaN</td>\n",
       "      <td>NaN</td>\n",
       "      <td>25.790295</td>\n",
       "      <td>-121.995421</td>\n",
       "      <td>NaN</td>\n",
       "      <td>NaN</td>\n",
       "      <td>NaN</td>\n",
       "      <td>NaN</td>\n",
       "    </tr>\n",
       "    <tr>\n",
       "      <th>25%</th>\n",
       "      <td>8349.750000</td>\n",
       "      <td>NaN</td>\n",
       "      <td>NaN</td>\n",
       "      <td>NaN</td>\n",
       "      <td>28.655350</td>\n",
       "      <td>-97.792874</td>\n",
       "      <td>NaN</td>\n",
       "      <td>NaN</td>\n",
       "      <td>NaN</td>\n",
       "      <td>NaN</td>\n",
       "    </tr>\n",
       "    <tr>\n",
       "      <th>50%</th>\n",
       "      <td>16698.500000</td>\n",
       "      <td>NaN</td>\n",
       "      <td>NaN</td>\n",
       "      <td>NaN</td>\n",
       "      <td>33.931261</td>\n",
       "      <td>-81.471414</td>\n",
       "      <td>NaN</td>\n",
       "      <td>NaN</td>\n",
       "      <td>NaN</td>\n",
       "      <td>NaN</td>\n",
       "    </tr>\n",
       "    <tr>\n",
       "      <th>75%</th>\n",
       "      <td>25047.250000</td>\n",
       "      <td>NaN</td>\n",
       "      <td>NaN</td>\n",
       "      <td>NaN</td>\n",
       "      <td>40.727401</td>\n",
       "      <td>-75.399919</td>\n",
       "      <td>NaN</td>\n",
       "      <td>NaN</td>\n",
       "      <td>NaN</td>\n",
       "      <td>NaN</td>\n",
       "    </tr>\n",
       "    <tr>\n",
       "      <th>max</th>\n",
       "      <td>33396.000000</td>\n",
       "      <td>NaN</td>\n",
       "      <td>NaN</td>\n",
       "      <td>NaN</td>\n",
       "      <td>44.981410</td>\n",
       "      <td>-73.459820</td>\n",
       "      <td>NaN</td>\n",
       "      <td>NaN</td>\n",
       "      <td>NaN</td>\n",
       "      <td>NaN</td>\n",
       "    </tr>\n",
       "  </tbody>\n",
       "</table>\n",
       "</div>"
      ],
      "text/plain": [
       "         reviewer_id  store_name              category  \\\n",
       "count   33396.000000       33396                 33396   \n",
       "unique           NaN           2                     1   \n",
       "top              NaN  McDonald's  Fast food restaurant   \n",
       "freq             NaN       33325                 33396   \n",
       "mean    16698.500000         NaN                   NaN   \n",
       "std      9640.739131         NaN                   NaN   \n",
       "min         1.000000         NaN                   NaN   \n",
       "25%      8349.750000         NaN                   NaN   \n",
       "50%     16698.500000         NaN                   NaN   \n",
       "75%     25047.250000         NaN                   NaN   \n",
       "max     33396.000000         NaN                   NaN   \n",
       "\n",
       "                                            store_address     latitude   \\\n",
       "count                                               33396  32736.000000   \n",
       "unique                                                 40           NaN   \n",
       "top     9814 International Dr, Orlando, FL 32819, Unit...           NaN   \n",
       "freq                                                 1890           NaN   \n",
       "mean                                                  NaN     34.442546   \n",
       "std                                                   NaN      5.344116   \n",
       "min                                                   NaN     25.790295   \n",
       "25%                                                   NaN     28.655350   \n",
       "50%                                                   NaN     33.931261   \n",
       "75%                                                   NaN     40.727401   \n",
       "max                                                   NaN     44.981410   \n",
       "\n",
       "           longitude rating_count  review_time      review   rating  \n",
       "count   32736.000000        33396        33396       33396    33396  \n",
       "unique           NaN           51           39       22285        5  \n",
       "top              NaN        2,810  4 years ago  Excellent   5 stars  \n",
       "freq             NaN         1140         6740        2148    10274  \n",
       "mean      -90.647033          NaN          NaN         NaN      NaN  \n",
       "std        16.594844          NaN          NaN         NaN      NaN  \n",
       "min      -121.995421          NaN          NaN         NaN      NaN  \n",
       "25%       -97.792874          NaN          NaN         NaN      NaN  \n",
       "50%       -81.471414          NaN          NaN         NaN      NaN  \n",
       "75%       -75.399919          NaN          NaN         NaN      NaN  \n",
       "max       -73.459820          NaN          NaN         NaN      NaN  "
      ]
     },
     "execution_count": 4,
     "metadata": {},
     "output_type": "execute_result"
    }
   ],
   "source": [
    "data.describe(include='all')"
   ]
  },
  {
   "cell_type": "code",
   "execution_count": 5,
   "metadata": {
    "colab": {
     "base_uri": "https://localhost:8080/"
    },
    "id": "ZvTD4XtIBwXn",
    "outputId": "b08ece27-c315-4d79-bb09-df3706bcd1da"
   },
   "outputs": [
    {
     "data": {
      "text/plain": [
       "Index(['reviewer_id', 'store_name', 'category', 'store_address', 'latitude ',\n",
       "       'longitude', 'rating_count', 'review_time', 'review', 'rating'],\n",
       "      dtype='object')"
      ]
     },
     "execution_count": 5,
     "metadata": {},
     "output_type": "execute_result"
    }
   ],
   "source": [
    "data.columns"
   ]
  },
  {
   "cell_type": "code",
   "execution_count": 6,
   "metadata": {
    "colab": {
     "base_uri": "https://localhost:8080/"
    },
    "id": "jTd8jj4nB6UM",
    "outputId": "c3db9ab8-f0c6-4aa1-b8bb-c7659c61d455"
   },
   "outputs": [
    {
     "data": {
      "text/plain": [
       "array(['13749 US-183 Hwy, Austin, TX 78750, United States',\n",
       "       '1698 US-209, Brodheadsville, PA 18322, United States',\n",
       "       '72-69 Kissena Blvd, Queens, NY 11367, United States',\n",
       "       '429 7th Ave, New York, NY 10001, United States',\n",
       "       '724 Broadway, New York, NY 10003, United States',\n",
       "       '160 Broadway, New York, NY 10038, United States',\n",
       "       '555 13th St NW, Washington, DC 20004, United States',\n",
       "       '10451 Santa Monica Blvd, Los Angeles, CA 90025, United States',\n",
       "       '114 Delancey St, New York, NY 10002, United States',\n",
       "       '5920 Balboa Ave, San Diego, CA 92111, United States',\n",
       "       '262 Canal St, New York, NY 10013, United States',\n",
       "       '490 8th Ave, New York, NY 10001, United States',\n",
       "       '550 Lawrence Expy, Sunnyvale, CA 94086, United States',\n",
       "       '11382 US-441, Orlando, FL 32837, United States',\n",
       "       '210 5th S, Salt Lake City, UT 84106, United States',\n",
       "       '1916 M St NW, Washington, DC 20036, United States',\n",
       "       \"151 West 34th Street (Macy's 7th Floor, New York, NY 10001, United States\",\n",
       "       '690 Alameda St, Los Angeles, CA 90021, United States',\n",
       "       '1650 Washington Ave, Miami Beach, FL 33139, United States',\n",
       "       '1121 Garnet Ave, San Diego, CA 92109, United States',\n",
       "       '1044 US-11, Champlain, NY 12919, United States',\n",
       "       '501 W Imperial Hwy, Los Angeles, CA 90044, United States',\n",
       "       '1540 2nd St, Santa Monica, CA 90405, United States',\n",
       "       '6875 Sand Lake Rd, Orlando, FL 32819, United States',\n",
       "       '25200 I-10 Lot 2, San Antonio, TX 78257, United States',\n",
       "       '111 Madison St, Oak Park, IL 60302, United States',\n",
       "       '8500 US-290, Austin, TX 78724, United States',\n",
       "       '10901 Riverside Dr, North Hollywood, CA 91602, United States',\n",
       "       '702-2 Haddonfield-Berlin Rd, Voorhees Township, NJ 08043, United States',\n",
       "       '1100 N US Hwy 377, Roanoke, TX 76262, United States',\n",
       "       '621 Broadway, Newark, NJ 07104, United States',\n",
       "       '2400 Alliance Gateway Fwy, Fort Worth, TX 76177, United States',\n",
       "       'By Mandalay Bay, 3999 S Las Vegas Blvd, Las Vegas, NV 89119, United States',\n",
       "       '2476 Kalï¿½ï¿½ï¿½ï¿½ï¿½ï¿½ï¿½ï¿½ï¿½ï¿½ï¿½ï¿½ï¿½ï¿½ï¿½',\n",
       "       '5725 W Irlo Bronson Memorial Hwy, Kissimmee, FL 34746, United States',\n",
       "       '1415 E State Rd, Fern Park, FL 32730, United States',\n",
       "       '9814 International Dr, Orlando, FL 32819, United States',\n",
       "       '7010 Bradlick Shopping Center, Annandale, VA 22003, United States',\n",
       "       '632 S R L Thornton Freeway Service Rd, Dallas, TX 75203, United States',\n",
       "       '3501 Biscayne Blvd, Miami, FL 33137, United States'], dtype=object)"
      ]
     },
     "execution_count": 6,
     "metadata": {},
     "output_type": "execute_result"
    }
   ],
   "source": [
    "data['store_address'].unique()"
   ]
  },
  {
   "cell_type": "code",
   "execution_count": 7,
   "metadata": {
    "colab": {
     "base_uri": "https://localhost:8080/"
    },
    "id": "0-vLE29RB82b",
    "outputId": "30f630cc-5874-4d3b-c39d-8974af03578e"
   },
   "outputs": [
    {
     "data": {
      "text/plain": [
       "reviewer_id        0\n",
       "store_name         0\n",
       "category           0\n",
       "store_address      0\n",
       "latitude         660\n",
       "longitude        660\n",
       "rating_count       0\n",
       "review_time        0\n",
       "review             0\n",
       "rating             0\n",
       "dtype: int64"
      ]
     },
     "execution_count": 7,
     "metadata": {},
     "output_type": "execute_result"
    }
   ],
   "source": [
    "data.isna().sum()"
   ]
  },
  {
   "cell_type": "code",
   "execution_count": 8,
   "metadata": {
    "colab": {
     "base_uri": "https://localhost:8080/",
     "height": 699
    },
    "id": "zdl-IfsWCC7L",
    "outputId": "4a01c2d9-0bde-4307-a99a-e7f634724155"
   },
   "outputs": [
    {
     "data": {
      "image/png": "[encoded data removed]",
      "text/plain": [
       "<Figure size 576x576 with 1 Axes>"
      ]
     },
     "metadata": {
      "needs_background": "light"
     },
     "output_type": "display_data"
    }
   ],
   "source": [
    "city_count=data['store_address'].value_counts()\n",
    "\n",
    "\n",
    "\n",
    "plt.figure(figsize=(8, 8))\n",
    "city_count.plot(kind='barh')\n",
    "plt.title('number of reviews x city')\n",
    "plt.show()\n"
   ]
  },
  {
   "cell_type": "code",
   "execution_count": null,
   "metadata": {
    "id": "Wv2aFCtlCMJO"
   },
   "outputs": [],
   "source": []
  },
  {
   "cell_type": "markdown",
   "metadata": {
    "id": "eSmWGn4UCOve"
   },
   "source": [
    "# here mcdonalds has asked us to carry a research on their shops in texas only detecting which shop has the larger percentage of negative review so that they can visit those shops and get an understanding of why they do have bad reviews . they also asked to generate a model which assign automaticly the review to positive or negative sentiment of the customer. they also said to ignore the rating that we already have in the dataset"
   ]
  },
  {
   "cell_type": "code",
   "execution_count": 9,
   "metadata": {
    "colab": {
     "base_uri": "https://localhost:8080/",
     "height": 597
    },
    "id": "nrQ9YOb6CPZF",
    "outputId": "989e7c63-b31f-40ca-b6cf-66aa167668f3"
   },
   "outputs": [
    {
     "data": {
      "text/html": [
       "<div>\n",
       "<style scoped>\n",
       "    .dataframe tbody tr th:only-of-type {\n",
       "        vertical-align: middle;\n",
       "    }\n",
       "\n",
       "    .dataframe tbody tr th {\n",
       "        vertical-align: top;\n",
       "    }\n",
       "\n",
       "    .dataframe thead th {\n",
       "        text-align: right;\n",
       "    }\n",
       "</style>\n",
       "<table border=\"1\" class=\"dataframe\">\n",
       "  <thead>\n",
       "    <tr style=\"text-align: right;\">\n",
       "      <th></th>\n",
       "      <th>reviewer_id</th>\n",
       "      <th>store_name</th>\n",
       "      <th>category</th>\n",
       "      <th>store_address</th>\n",
       "      <th>latitude</th>\n",
       "      <th>longitude</th>\n",
       "      <th>rating_count</th>\n",
       "      <th>review_time</th>\n",
       "      <th>review</th>\n",
       "      <th>rating</th>\n",
       "    </tr>\n",
       "  </thead>\n",
       "  <tbody>\n",
       "    <tr>\n",
       "      <th>0</th>\n",
       "      <td>1</td>\n",
       "      <td>McDonald's</td>\n",
       "      <td>Fast food restaurant</td>\n",
       "      <td>13749 US-183 Hwy, Austin, TX 78750, United States</td>\n",
       "      <td>30.460718</td>\n",
       "      <td>-97.792874</td>\n",
       "      <td>1,240</td>\n",
       "      <td>3 months ago</td>\n",
       "      <td>Why does it look like someone spit on my food?...</td>\n",
       "      <td>1 star</td>\n",
       "    </tr>\n",
       "    <tr>\n",
       "      <th>1</th>\n",
       "      <td>2</td>\n",
       "      <td>McDonald's</td>\n",
       "      <td>Fast food restaurant</td>\n",
       "      <td>13749 US-183 Hwy, Austin, TX 78750, United States</td>\n",
       "      <td>30.460718</td>\n",
       "      <td>-97.792874</td>\n",
       "      <td>1,240</td>\n",
       "      <td>5 days ago</td>\n",
       "      <td>It'd McDonalds. It is what it is as far as the...</td>\n",
       "      <td>4 stars</td>\n",
       "    </tr>\n",
       "    <tr>\n",
       "      <th>2</th>\n",
       "      <td>3</td>\n",
       "      <td>McDonald's</td>\n",
       "      <td>Fast food restaurant</td>\n",
       "      <td>13749 US-183 Hwy, Austin, TX 78750, United States</td>\n",
       "      <td>30.460718</td>\n",
       "      <td>-97.792874</td>\n",
       "      <td>1,240</td>\n",
       "      <td>5 days ago</td>\n",
       "      <td>Made a mobile order got to the speaker and che...</td>\n",
       "      <td>1 star</td>\n",
       "    </tr>\n",
       "    <tr>\n",
       "      <th>3</th>\n",
       "      <td>4</td>\n",
       "      <td>McDonald's</td>\n",
       "      <td>Fast food restaurant</td>\n",
       "      <td>13749 US-183 Hwy, Austin, TX 78750, United States</td>\n",
       "      <td>30.460718</td>\n",
       "      <td>-97.792874</td>\n",
       "      <td>1,240</td>\n",
       "      <td>a month ago</td>\n",
       "      <td>My mc. Crispy chicken sandwich was ï¿½ï¿½ï¿½ï¿...</td>\n",
       "      <td>5 stars</td>\n",
       "    </tr>\n",
       "    <tr>\n",
       "      <th>4</th>\n",
       "      <td>5</td>\n",
       "      <td>McDonald's</td>\n",
       "      <td>Fast food restaurant</td>\n",
       "      <td>13749 US-183 Hwy, Austin, TX 78750, United States</td>\n",
       "      <td>30.460718</td>\n",
       "      <td>-97.792874</td>\n",
       "      <td>1,240</td>\n",
       "      <td>2 months ago</td>\n",
       "      <td>I repeat my order 3 times in the drive thru, a...</td>\n",
       "      <td>1 star</td>\n",
       "    </tr>\n",
       "    <tr>\n",
       "      <th>...</th>\n",
       "      <td>...</td>\n",
       "      <td>...</td>\n",
       "      <td>...</td>\n",
       "      <td>...</td>\n",
       "      <td>...</td>\n",
       "      <td>...</td>\n",
       "      <td>...</td>\n",
       "      <td>...</td>\n",
       "      <td>...</td>\n",
       "      <td>...</td>\n",
       "    </tr>\n",
       "    <tr>\n",
       "      <th>32251</th>\n",
       "      <td>32252</td>\n",
       "      <td>McDonald's</td>\n",
       "      <td>Fast food restaurant</td>\n",
       "      <td>632 S R L Thornton Freeway Service Rd, Dallas,...</td>\n",
       "      <td>32.744596</td>\n",
       "      <td>-96.812286</td>\n",
       "      <td>2,658</td>\n",
       "      <td>a year ago</td>\n",
       "      <td>Excellent service by drivetru Very Rapids atte...</td>\n",
       "      <td>5 stars</td>\n",
       "    </tr>\n",
       "    <tr>\n",
       "      <th>32252</th>\n",
       "      <td>32253</td>\n",
       "      <td>McDonald's</td>\n",
       "      <td>Fast food restaurant</td>\n",
       "      <td>632 S R L Thornton Freeway Service Rd, Dallas,...</td>\n",
       "      <td>32.744596</td>\n",
       "      <td>-96.812286</td>\n",
       "      <td>2,658</td>\n",
       "      <td>3 years ago</td>\n",
       "      <td>The decoration is nice, the attention is good,...</td>\n",
       "      <td>3 stars</td>\n",
       "    </tr>\n",
       "    <tr>\n",
       "      <th>32253</th>\n",
       "      <td>32254</td>\n",
       "      <td>McDonald's</td>\n",
       "      <td>Fast food restaurant</td>\n",
       "      <td>632 S R L Thornton Freeway Service Rd, Dallas,...</td>\n",
       "      <td>32.744596</td>\n",
       "      <td>-96.812286</td>\n",
       "      <td>2,658</td>\n",
       "      <td>a year ago</td>\n",
       "      <td>Ideal to go with your children to enjoy good f...</td>\n",
       "      <td>5 stars</td>\n",
       "    </tr>\n",
       "    <tr>\n",
       "      <th>32254</th>\n",
       "      <td>32255</td>\n",
       "      <td>McDonald's</td>\n",
       "      <td>Fast food restaurant</td>\n",
       "      <td>632 S R L Thornton Freeway Service Rd, Dallas,...</td>\n",
       "      <td>32.744596</td>\n",
       "      <td>-96.812286</td>\n",
       "      <td>2,658</td>\n",
       "      <td>2 years ago</td>\n",
       "      <td>They did not attend me and given the size stan...</td>\n",
       "      <td>1 star</td>\n",
       "    </tr>\n",
       "    <tr>\n",
       "      <th>32255</th>\n",
       "      <td>32256</td>\n",
       "      <td>ýýýMcDonald's</td>\n",
       "      <td>Fast food restaurant</td>\n",
       "      <td>632 S R L Thornton Freeway Service Rd, Dallas,...</td>\n",
       "      <td>32.744596</td>\n",
       "      <td>-96.812286</td>\n",
       "      <td>2,658</td>\n",
       "      <td>2 years ago</td>\n",
       "      <td>ýýýýýýýý Terrible service... they never give y...</td>\n",
       "      <td>1 star</td>\n",
       "    </tr>\n",
       "  </tbody>\n",
       "</table>\n",
       "<p>6029 rows × 10 columns</p>\n",
       "</div>"
      ],
      "text/plain": [
       "       reviewer_id     store_name              category  \\\n",
       "0                1     McDonald's  Fast food restaurant   \n",
       "1                2     McDonald's  Fast food restaurant   \n",
       "2                3     McDonald's  Fast food restaurant   \n",
       "3                4     McDonald's  Fast food restaurant   \n",
       "4                5     McDonald's  Fast food restaurant   \n",
       "...            ...            ...                   ...   \n",
       "32251        32252     McDonald's  Fast food restaurant   \n",
       "32252        32253     McDonald's  Fast food restaurant   \n",
       "32253        32254     McDonald's  Fast food restaurant   \n",
       "32254        32255     McDonald's  Fast food restaurant   \n",
       "32255        32256  ýýýMcDonald's  Fast food restaurant   \n",
       "\n",
       "                                           store_address  latitude   \\\n",
       "0      13749 US-183 Hwy, Austin, TX 78750, United States  30.460718   \n",
       "1      13749 US-183 Hwy, Austin, TX 78750, United States  30.460718   \n",
       "2      13749 US-183 Hwy, Austin, TX 78750, United States  30.460718   \n",
       "3      13749 US-183 Hwy, Austin, TX 78750, United States  30.460718   \n",
       "4      13749 US-183 Hwy, Austin, TX 78750, United States  30.460718   \n",
       "...                                                  ...        ...   \n",
       "32251  632 S R L Thornton Freeway Service Rd, Dallas,...  32.744596   \n",
       "32252  632 S R L Thornton Freeway Service Rd, Dallas,...  32.744596   \n",
       "32253  632 S R L Thornton Freeway Service Rd, Dallas,...  32.744596   \n",
       "32254  632 S R L Thornton Freeway Service Rd, Dallas,...  32.744596   \n",
       "32255  632 S R L Thornton Freeway Service Rd, Dallas,...  32.744596   \n",
       "\n",
       "       longitude rating_count   review_time  \\\n",
       "0     -97.792874        1,240  3 months ago   \n",
       "1     -97.792874        1,240    5 days ago   \n",
       "2     -97.792874        1,240    5 days ago   \n",
       "3     -97.792874        1,240   a month ago   \n",
       "4     -97.792874        1,240  2 months ago   \n",
       "...          ...          ...           ...   \n",
       "32251 -96.812286        2,658    a year ago   \n",
       "32252 -96.812286        2,658   3 years ago   \n",
       "32253 -96.812286        2,658    a year ago   \n",
       "32254 -96.812286        2,658   2 years ago   \n",
       "32255 -96.812286        2,658   2 years ago   \n",
       "\n",
       "                                                  review   rating  \n",
       "0      Why does it look like someone spit on my food?...   1 star  \n",
       "1      It'd McDonalds. It is what it is as far as the...  4 stars  \n",
       "2      Made a mobile order got to the speaker and che...   1 star  \n",
       "3      My mc. Crispy chicken sandwich was ï¿½ï¿½ï¿½ï¿...  5 stars  \n",
       "4      I repeat my order 3 times in the drive thru, a...   1 star  \n",
       "...                                                  ...      ...  \n",
       "32251  Excellent service by drivetru Very Rapids atte...  5 stars  \n",
       "32252  The decoration is nice, the attention is good,...  3 stars  \n",
       "32253  Ideal to go with your children to enjoy good f...  5 stars  \n",
       "32254  They did not attend me and given the size stan...   1 star  \n",
       "32255  ýýýýýýýý Terrible service... they never give y...   1 star  \n",
       "\n",
       "[6029 rows x 10 columns]"
      ]
     },
     "execution_count": 9,
     "metadata": {},
     "output_type": "execute_result"
    }
   ],
   "source": [
    "tx_addresses = data[data['store_address'].str.contains(', TX ', case=False, na=False)]\n",
    "\n",
    "# Display the filtered DataFrame\n",
    "tx_addresses=pd.DataFrame(tx_addresses)\n",
    "tx_addresses"
   ]
  },
  {
   "cell_type": "markdown",
   "metadata": {
    "id": "FRrTO_L0CYIX"
   },
   "source": [
    "we will also drop the columns that we will not be using in this study:\n"
   ]
  },
  {
   "cell_type": "code",
   "execution_count": 10,
   "metadata": {
    "colab": {
     "base_uri": "https://localhost:8080/",
     "height": 424
    },
    "id": "IEVeVj9UCSGc",
    "outputId": "7e12a464-cfde-445b-c5ce-3f725cd73f6e"
   },
   "outputs": [
    {
     "data": {
      "text/html": [
       "<div>\n",
       "<style scoped>\n",
       "    .dataframe tbody tr th:only-of-type {\n",
       "        vertical-align: middle;\n",
       "    }\n",
       "\n",
       "    .dataframe tbody tr th {\n",
       "        vertical-align: top;\n",
       "    }\n",
       "\n",
       "    .dataframe thead th {\n",
       "        text-align: right;\n",
       "    }\n",
       "</style>\n",
       "<table border=\"1\" class=\"dataframe\">\n",
       "  <thead>\n",
       "    <tr style=\"text-align: right;\">\n",
       "      <th></th>\n",
       "      <th>store_address</th>\n",
       "      <th>review</th>\n",
       "    </tr>\n",
       "  </thead>\n",
       "  <tbody>\n",
       "    <tr>\n",
       "      <th>0</th>\n",
       "      <td>13749 US-183 Hwy, Austin, TX 78750, United States</td>\n",
       "      <td>Why does it look like someone spit on my food?...</td>\n",
       "    </tr>\n",
       "    <tr>\n",
       "      <th>1</th>\n",
       "      <td>13749 US-183 Hwy, Austin, TX 78750, United States</td>\n",
       "      <td>It'd McDonalds. It is what it is as far as the...</td>\n",
       "    </tr>\n",
       "    <tr>\n",
       "      <th>2</th>\n",
       "      <td>13749 US-183 Hwy, Austin, TX 78750, United States</td>\n",
       "      <td>Made a mobile order got to the speaker and che...</td>\n",
       "    </tr>\n",
       "    <tr>\n",
       "      <th>3</th>\n",
       "      <td>13749 US-183 Hwy, Austin, TX 78750, United States</td>\n",
       "      <td>My mc. Crispy chicken sandwich was ï¿½ï¿½ï¿½ï¿...</td>\n",
       "    </tr>\n",
       "    <tr>\n",
       "      <th>4</th>\n",
       "      <td>13749 US-183 Hwy, Austin, TX 78750, United States</td>\n",
       "      <td>I repeat my order 3 times in the drive thru, a...</td>\n",
       "    </tr>\n",
       "    <tr>\n",
       "      <th>...</th>\n",
       "      <td>...</td>\n",
       "      <td>...</td>\n",
       "    </tr>\n",
       "    <tr>\n",
       "      <th>32251</th>\n",
       "      <td>632 S R L Thornton Freeway Service Rd, Dallas,...</td>\n",
       "      <td>Excellent service by drivetru Very Rapids atte...</td>\n",
       "    </tr>\n",
       "    <tr>\n",
       "      <th>32252</th>\n",
       "      <td>632 S R L Thornton Freeway Service Rd, Dallas,...</td>\n",
       "      <td>The decoration is nice, the attention is good,...</td>\n",
       "    </tr>\n",
       "    <tr>\n",
       "      <th>32253</th>\n",
       "      <td>632 S R L Thornton Freeway Service Rd, Dallas,...</td>\n",
       "      <td>Ideal to go with your children to enjoy good f...</td>\n",
       "    </tr>\n",
       "    <tr>\n",
       "      <th>32254</th>\n",
       "      <td>632 S R L Thornton Freeway Service Rd, Dallas,...</td>\n",
       "      <td>They did not attend me and given the size stan...</td>\n",
       "    </tr>\n",
       "    <tr>\n",
       "      <th>32255</th>\n",
       "      <td>632 S R L Thornton Freeway Service Rd, Dallas,...</td>\n",
       "      <td>ýýýýýýýý Terrible service... they never give y...</td>\n",
       "    </tr>\n",
       "  </tbody>\n",
       "</table>\n",
       "<p>6029 rows × 2 columns</p>\n",
       "</div>"
      ],
      "text/plain": [
       "                                           store_address  \\\n",
       "0      13749 US-183 Hwy, Austin, TX 78750, United States   \n",
       "1      13749 US-183 Hwy, Austin, TX 78750, United States   \n",
       "2      13749 US-183 Hwy, Austin, TX 78750, United States   \n",
       "3      13749 US-183 Hwy, Austin, TX 78750, United States   \n",
       "4      13749 US-183 Hwy, Austin, TX 78750, United States   \n",
       "...                                                  ...   \n",
       "32251  632 S R L Thornton Freeway Service Rd, Dallas,...   \n",
       "32252  632 S R L Thornton Freeway Service Rd, Dallas,...   \n",
       "32253  632 S R L Thornton Freeway Service Rd, Dallas,...   \n",
       "32254  632 S R L Thornton Freeway Service Rd, Dallas,...   \n",
       "32255  632 S R L Thornton Freeway Service Rd, Dallas,...   \n",
       "\n",
       "                                                  review  \n",
       "0      Why does it look like someone spit on my food?...  \n",
       "1      It'd McDonalds. It is what it is as far as the...  \n",
       "2      Made a mobile order got to the speaker and che...  \n",
       "3      My mc. Crispy chicken sandwich was ï¿½ï¿½ï¿½ï¿...  \n",
       "4      I repeat my order 3 times in the drive thru, a...  \n",
       "...                                                  ...  \n",
       "32251  Excellent service by drivetru Very Rapids atte...  \n",
       "32252  The decoration is nice, the attention is good,...  \n",
       "32253  Ideal to go with your children to enjoy good f...  \n",
       "32254  They did not attend me and given the size stan...  \n",
       "32255  ýýýýýýýý Terrible service... they never give y...  \n",
       "\n",
       "[6029 rows x 2 columns]"
      ]
     },
     "execution_count": 10,
     "metadata": {},
     "output_type": "execute_result"
    }
   ],
   "source": [
    "tx_addresses = tx_addresses.loc[:,['store_address','review']]\n",
    "tx_addresses"
   ]
  },
  {
   "cell_type": "code",
   "execution_count": 11,
   "metadata": {
    "colab": {
     "base_uri": "https://localhost:8080/"
    },
    "id": "Dgl_8LO2CxOW",
    "outputId": "548894ab-e8ea-405f-92c2-b99742f818e3"
   },
   "outputs": [
    {
     "data": {
      "text/plain": [
       "store_address\n",
       "632 S R L Thornton Freeway Service Rd, Dallas, TX 75203, United States    1650\n",
       "1100 N US Hwy 377, Roanoke, TX 76262, United States                       1168\n",
       "8500 US-290, Austin, TX 78724, United States                               926\n",
       "2400 Alliance Gateway Fwy, Fort Worth, TX 76177, United States             850\n",
       "13749 US-183 Hwy, Austin, TX 78750, United States                          800\n",
       "25200 I-10 Lot 2, San Antonio, TX 78257, United States                     635\n",
       "Name: count, dtype: int64"
      ]
     },
     "execution_count": 11,
     "metadata": {},
     "output_type": "execute_result"
    }
   ],
   "source": [
    "tx_addresses['store_address'].value_counts()"
   ]
  },
  {
   "cell_type": "code",
   "execution_count": 12,
   "metadata": {
    "colab": {
     "base_uri": "https://localhost:8080/",
     "height": 605
    },
    "id": "SDRuHNksFAVR",
    "outputId": "a52a4b97-6374-4e42-b783-0c351acd25b7"
   },
   "outputs": [
    {
     "data": {
      "image/png": "[encoded data removed]",
      "text/plain": [
       "<Figure size 576x576 with 1 Axes>"
      ]
     },
     "metadata": {},
     "output_type": "display_data"
    }
   ],
   "source": [
    "city_count=tx_addresses['store_address'].value_counts()\n",
    "plt.figure(figsize=(8, 8))\n",
    "plt.pie(city_count, labels=city_count.index, autopct='%1.1f%%', startangle=90)\n",
    "plt.title('Distribution of Cities')\n",
    "plt.show()"
   ]
  },
  {
   "cell_type": "code",
   "execution_count": 13,
   "metadata": {
    "id": "a8l10CeTFDur"
   },
   "outputs": [],
   "source": [
    "#city with biggest number of reviews is dallas"
   ]
  },
  {
   "cell_type": "code",
   "execution_count": null,
   "metadata": {
    "id": "YdQavQTSFG-O"
   },
   "outputs": [],
   "source": []
  },
  {
   "cell_type": "markdown",
   "metadata": {
    "id": "7wBeRHQvFJ2e"
   },
   "source": [
    "# here mc donalds want to undestand which city restaurant in texas has the worst reviews"
   ]
  },
  {
   "cell_type": "code",
   "execution_count": 14,
   "metadata": {
    "id": "_dAj_Im1FKn4"
   },
   "outputs": [],
   "source": [
    "from nltk.sentiment.vader import SentimentIntensityAnalyzer\n",
    "\n",
    "sentiment=SentimentIntensityAnalyzer()\n",
    "\n",
    "tx_addresses['compound']= [sentiment.polarity_scores(review)['compound'] for review in tx_addresses['review']]\n",
    "tx_addresses['neg']= [sentiment.polarity_scores(review)['neg'] for review in tx_addresses['review']]\n",
    "tx_addresses['neu']= [sentiment.polarity_scores(review)['neu'] for review in tx_addresses['review']]\n",
    "tx_addresses['pos']= [sentiment.polarity_scores(review)['pos'] for review in tx_addresses['review']]"
   ]
  },
  {
   "cell_type": "code",
   "execution_count": 15,
   "metadata": {
    "colab": {
     "base_uri": "https://localhost:8080/",
     "height": 206
    },
    "id": "c8HaMqW_FZfc",
    "outputId": "b213bd78-4f64-43c0-9e02-00be244cba09"
   },
   "outputs": [
    {
     "data": {
      "text/html": [
       "<div>\n",
       "<style scoped>\n",
       "    .dataframe tbody tr th:only-of-type {\n",
       "        vertical-align: middle;\n",
       "    }\n",
       "\n",
       "    .dataframe tbody tr th {\n",
       "        vertical-align: top;\n",
       "    }\n",
       "\n",
       "    .dataframe thead th {\n",
       "        text-align: right;\n",
       "    }\n",
       "</style>\n",
       "<table border=\"1\" class=\"dataframe\">\n",
       "  <thead>\n",
       "    <tr style=\"text-align: right;\">\n",
       "      <th></th>\n",
       "      <th>store_address</th>\n",
       "      <th>review</th>\n",
       "      <th>compound</th>\n",
       "      <th>neg</th>\n",
       "      <th>neu</th>\n",
       "      <th>pos</th>\n",
       "    </tr>\n",
       "  </thead>\n",
       "  <tbody>\n",
       "    <tr>\n",
       "      <th>0</th>\n",
       "      <td>13749 US-183 Hwy, Austin, TX 78750, United States</td>\n",
       "      <td>Why does it look like someone spit on my food?...</td>\n",
       "      <td>0.5215</td>\n",
       "      <td>0.027</td>\n",
       "      <td>0.879</td>\n",
       "      <td>0.094</td>\n",
       "    </tr>\n",
       "    <tr>\n",
       "      <th>1</th>\n",
       "      <td>13749 US-183 Hwy, Austin, TX 78750, United States</td>\n",
       "      <td>It'd McDonalds. It is what it is as far as the...</td>\n",
       "      <td>0.8687</td>\n",
       "      <td>0.000</td>\n",
       "      <td>0.791</td>\n",
       "      <td>0.209</td>\n",
       "    </tr>\n",
       "    <tr>\n",
       "      <th>2</th>\n",
       "      <td>13749 US-183 Hwy, Austin, TX 78750, United States</td>\n",
       "      <td>Made a mobile order got to the speaker and che...</td>\n",
       "      <td>-0.3535</td>\n",
       "      <td>0.051</td>\n",
       "      <td>0.949</td>\n",
       "      <td>0.000</td>\n",
       "    </tr>\n",
       "    <tr>\n",
       "      <th>3</th>\n",
       "      <td>13749 US-183 Hwy, Austin, TX 78750, United States</td>\n",
       "      <td>My mc. Crispy chicken sandwich was ï¿½ï¿½ï¿½ï¿...</td>\n",
       "      <td>0.0000</td>\n",
       "      <td>0.000</td>\n",
       "      <td>1.000</td>\n",
       "      <td>0.000</td>\n",
       "    </tr>\n",
       "    <tr>\n",
       "      <th>4</th>\n",
       "      <td>13749 US-183 Hwy, Austin, TX 78750, United States</td>\n",
       "      <td>I repeat my order 3 times in the drive thru, a...</td>\n",
       "      <td>-0.8020</td>\n",
       "      <td>0.143</td>\n",
       "      <td>0.857</td>\n",
       "      <td>0.000</td>\n",
       "    </tr>\n",
       "  </tbody>\n",
       "</table>\n",
       "</div>"
      ],
      "text/plain": [
       "                                       store_address  \\\n",
       "0  13749 US-183 Hwy, Austin, TX 78750, United States   \n",
       "1  13749 US-183 Hwy, Austin, TX 78750, United States   \n",
       "2  13749 US-183 Hwy, Austin, TX 78750, United States   \n",
       "3  13749 US-183 Hwy, Austin, TX 78750, United States   \n",
       "4  13749 US-183 Hwy, Austin, TX 78750, United States   \n",
       "\n",
       "                                              review  compound    neg    neu  \\\n",
       "0  Why does it look like someone spit on my food?...    0.5215  0.027  0.879   \n",
       "1  It'd McDonalds. It is what it is as far as the...    0.8687  0.000  0.791   \n",
       "2  Made a mobile order got to the speaker and che...   -0.3535  0.051  0.949   \n",
       "3  My mc. Crispy chicken sandwich was ï¿½ï¿½ï¿½ï¿...    0.0000  0.000  1.000   \n",
       "4  I repeat my order 3 times in the drive thru, a...   -0.8020  0.143  0.857   \n",
       "\n",
       "     pos  \n",
       "0  0.094  \n",
       "1  0.209  \n",
       "2  0.000  \n",
       "3  0.000  \n",
       "4  0.000  "
      ]
     },
     "execution_count": 15,
     "metadata": {},
     "output_type": "execute_result"
    }
   ],
   "source": [
    "tx_addresses.head()"
   ]
  },
  {
   "cell_type": "code",
   "execution_count": 16,
   "metadata": {
    "colab": {
     "base_uri": "https://localhost:8080/",
     "height": 300
    },
    "id": "1s5mti9cFckq",
    "outputId": "c81ed33d-eb4f-4e4c-e3d8-be3c918e62a9"
   },
   "outputs": [
    {
     "data": {
      "text/html": [
       "<div>\n",
       "<style scoped>\n",
       "    .dataframe tbody tr th:only-of-type {\n",
       "        vertical-align: middle;\n",
       "    }\n",
       "\n",
       "    .dataframe tbody tr th {\n",
       "        vertical-align: top;\n",
       "    }\n",
       "\n",
       "    .dataframe thead th {\n",
       "        text-align: right;\n",
       "    }\n",
       "</style>\n",
       "<table border=\"1\" class=\"dataframe\">\n",
       "  <thead>\n",
       "    <tr style=\"text-align: right;\">\n",
       "      <th></th>\n",
       "      <th>compound</th>\n",
       "      <th>neg</th>\n",
       "      <th>neu</th>\n",
       "      <th>pos</th>\n",
       "    </tr>\n",
       "  </thead>\n",
       "  <tbody>\n",
       "    <tr>\n",
       "      <th>count</th>\n",
       "      <td>6029.000000</td>\n",
       "      <td>6029.000000</td>\n",
       "      <td>6029.000000</td>\n",
       "      <td>6029.000000</td>\n",
       "    </tr>\n",
       "    <tr>\n",
       "      <th>mean</th>\n",
       "      <td>0.162341</td>\n",
       "      <td>0.097446</td>\n",
       "      <td>0.587624</td>\n",
       "      <td>0.314761</td>\n",
       "    </tr>\n",
       "    <tr>\n",
       "      <th>std</th>\n",
       "      <td>0.510586</td>\n",
       "      <td>0.209407</td>\n",
       "      <td>0.356386</td>\n",
       "      <td>0.371090</td>\n",
       "    </tr>\n",
       "    <tr>\n",
       "      <th>min</th>\n",
       "      <td>-0.995900</td>\n",
       "      <td>0.000000</td>\n",
       "      <td>0.000000</td>\n",
       "      <td>0.000000</td>\n",
       "    </tr>\n",
       "    <tr>\n",
       "      <th>25%</th>\n",
       "      <td>-0.177900</td>\n",
       "      <td>0.000000</td>\n",
       "      <td>0.314000</td>\n",
       "      <td>0.000000</td>\n",
       "    </tr>\n",
       "    <tr>\n",
       "      <th>50%</th>\n",
       "      <td>0.296000</td>\n",
       "      <td>0.000000</td>\n",
       "      <td>0.687000</td>\n",
       "      <td>0.136000</td>\n",
       "    </tr>\n",
       "    <tr>\n",
       "      <th>75%</th>\n",
       "      <td>0.571900</td>\n",
       "      <td>0.106000</td>\n",
       "      <td>0.879000</td>\n",
       "      <td>0.576000</td>\n",
       "    </tr>\n",
       "    <tr>\n",
       "      <th>max</th>\n",
       "      <td>0.994900</td>\n",
       "      <td>1.000000</td>\n",
       "      <td>1.000000</td>\n",
       "      <td>1.000000</td>\n",
       "    </tr>\n",
       "  </tbody>\n",
       "</table>\n",
       "</div>"
      ],
      "text/plain": [
       "          compound          neg          neu          pos\n",
       "count  6029.000000  6029.000000  6029.000000  6029.000000\n",
       "mean      0.162341     0.097446     0.587624     0.314761\n",
       "std       0.510586     0.209407     0.356386     0.371090\n",
       "min      -0.995900     0.000000     0.000000     0.000000\n",
       "25%      -0.177900     0.000000     0.314000     0.000000\n",
       "50%       0.296000     0.000000     0.687000     0.136000\n",
       "75%       0.571900     0.106000     0.879000     0.576000\n",
       "max       0.994900     1.000000     1.000000     1.000000"
      ]
     },
     "execution_count": 16,
     "metadata": {},
     "output_type": "execute_result"
    }
   ],
   "source": [
    "tx_addresses[['compound','neg','neu','pos']].describe()"
   ]
  },
  {
   "cell_type": "code",
   "execution_count": 17,
   "metadata": {
    "id": "_gFpCtAHFgqq"
   },
   "outputs": [],
   "source": [
    "#from the above we can see that more than 50% reviews have a score more than 0.29\n",
    "#suggesting that the magiority of reviews are positive"
   ]
  },
  {
   "cell_type": "code",
   "execution_count": 18,
   "metadata": {
    "colab": {
     "base_uri": "https://localhost:8080/",
     "height": 466
    },
    "id": "OZU72h20Fi0o",
    "outputId": "f09b02e8-a9dc-4f30-c191-c497773e5f3a"
   },
   "outputs": [
    {
     "data": {
      "text/plain": [
       "<AxesSubplot:xlabel='compound', ylabel='Count'>"
      ]
     },
     "execution_count": 18,
     "metadata": {},
     "output_type": "execute_result"
    },
    {
     "data": {
      "image/png": "[encoded data removed]",
      "text/plain": [
       "<Figure size 432x288 with 1 Axes>"
      ]
     },
     "metadata": {
      "needs_background": "light"
     },
     "output_type": "display_data"
    }
   ],
   "source": [
    "sns.histplot(tx_addresses['compound'])"
   ]
  },
  {
   "cell_type": "code",
   "execution_count": null,
   "metadata": {
    "id": "omX8WJ0OFkst"
   },
   "outputs": [],
   "source": []
  },
  {
   "cell_type": "markdown",
   "metadata": {
    "id": "fNmaIbQMFm3V"
   },
   "source": [
    "from this chart we  can also see that there are a big number of neutral reviews in the state of texas"
   ]
  },
  {
   "cell_type": "code",
   "execution_count": 19,
   "metadata": {
    "colab": {
     "base_uri": "https://localhost:8080/"
    },
    "id": "Xs3kkB1MFnXu",
    "outputId": "f8725191-a600-40e0-b083-4afb703c111f"
   },
   "outputs": [
    {
     "data": {
      "text/plain": [
       "store_address\n",
       "1100 N US Hwy 377, Roanoke, TX 76262, United States                       116\n",
       "13749 US-183 Hwy, Austin, TX 78750, United States                         110\n",
       "2400 Alliance Gateway Fwy, Fort Worth, TX 76177, United States             83\n",
       "25200 I-10 Lot 2, San Antonio, TX 78257, United States                     80\n",
       "632 S R L Thornton Freeway Service Rd, Dallas, TX 75203, United States    258\n",
       "8500 US-290, Austin, TX 78724, United States                              180\n",
       "Name: compound, dtype: int64"
      ]
     },
     "execution_count": 19,
     "metadata": {},
     "output_type": "execute_result"
    }
   ],
   "source": [
    "# we now group the very bad reviews based on the distribution of compound ,\n",
    "#we decide to put any review with compound less than 0.5 as very bad reviews and from this\n",
    "#calculate the percentage of very bad reviews from total review so that we can comunicate to\n",
    "#mcdonald which one are the shops that they need to improve reviews and check in which city are they\n",
    "\n",
    "\n",
    "(tx_addresses['compound']< -0.5).groupby(tx_addresses['store_address']).sum()"
   ]
  },
  {
   "cell_type": "code",
   "execution_count": 20,
   "metadata": {
    "id": "y8sFJXP7Fv_c"
   },
   "outputs": [],
   "source": [
    "# here we see that Dallas has a lot of very bad reviews but to understand better\n",
    "#we need to calculate the percentage of very bad reviews over the total number of reviews"
   ]
  },
  {
   "cell_type": "code",
   "execution_count": 21,
   "metadata": {
    "colab": {
     "base_uri": "https://localhost:8080/",
     "height": 269
    },
    "id": "f20_kGhbFyih",
    "outputId": "cd57e793-3c34-4599-c0c1-3228d019805a"
   },
   "outputs": [
    {
     "data": {
      "text/html": [
       "<div>\n",
       "<style scoped>\n",
       "    .dataframe tbody tr th:only-of-type {\n",
       "        vertical-align: middle;\n",
       "    }\n",
       "\n",
       "    .dataframe tbody tr th {\n",
       "        vertical-align: top;\n",
       "    }\n",
       "\n",
       "    .dataframe thead th {\n",
       "        text-align: right;\n",
       "    }\n",
       "</style>\n",
       "<table border=\"1\" class=\"dataframe\">\n",
       "  <thead>\n",
       "    <tr style=\"text-align: right;\">\n",
       "      <th></th>\n",
       "      <th>% very bad reviews</th>\n",
       "    </tr>\n",
       "    <tr>\n",
       "      <th>store_address</th>\n",
       "      <th></th>\n",
       "    </tr>\n",
       "  </thead>\n",
       "  <tbody>\n",
       "    <tr>\n",
       "      <th>2400 Alliance Gateway Fwy, Fort Worth, TX 76177, United States</th>\n",
       "      <td>9.764706</td>\n",
       "    </tr>\n",
       "    <tr>\n",
       "      <th>1100 N US Hwy 377, Roanoke, TX 76262, United States</th>\n",
       "      <td>9.931507</td>\n",
       "    </tr>\n",
       "    <tr>\n",
       "      <th>25200 I-10 Lot 2, San Antonio, TX 78257, United States</th>\n",
       "      <td>12.598425</td>\n",
       "    </tr>\n",
       "    <tr>\n",
       "      <th>13749 US-183 Hwy, Austin, TX 78750, United States</th>\n",
       "      <td>13.750000</td>\n",
       "    </tr>\n",
       "    <tr>\n",
       "      <th>632 S R L Thornton Freeway Service Rd, Dallas, TX 75203, United States</th>\n",
       "      <td>15.636364</td>\n",
       "    </tr>\n",
       "    <tr>\n",
       "      <th>8500 US-290, Austin, TX 78724, United States</th>\n",
       "      <td>19.438445</td>\n",
       "    </tr>\n",
       "  </tbody>\n",
       "</table>\n",
       "</div>"
      ],
      "text/plain": [
       "                                                    % very bad reviews\n",
       "store_address                                                         \n",
       "2400 Alliance Gateway Fwy, Fort Worth, TX 76177...            9.764706\n",
       "1100 N US Hwy 377, Roanoke, TX 76262, United St...            9.931507\n",
       "25200 I-10 Lot 2, San Antonio, TX 78257, United...           12.598425\n",
       "13749 US-183 Hwy, Austin, TX 78750, United States            13.750000\n",
       "632 S R L Thornton Freeway Service Rd, Dallas, ...           15.636364\n",
       "8500 US-290, Austin, TX 78724, United States                 19.438445"
      ]
     },
     "execution_count": 21,
     "metadata": {},
     "output_type": "execute_result"
    }
   ],
   "source": [
    "#calculate as percentge of total reviews for very bad reviews:\n",
    "\n",
    "percentage_negative= pd.DataFrame((tx_addresses['compound']<=-0.5).groupby(tx_addresses['store_address']).sum()\n",
    "/ tx_addresses['store_address'].groupby(tx_addresses['store_address']).count()*100,\n",
    "columns=['% very bad reviews']).sort_values(by='% very bad reviews')\n",
    "\n",
    "percentage_negative"
   ]
  },
  {
   "cell_type": "code",
   "execution_count": 22,
   "metadata": {
    "id": "mEXorvckF0yP"
   },
   "outputs": [],
   "source": [
    "# so we can see thatone of the 2 shops in Austin: 8500 US-290 Austin has 19% of very bad reviews.\n",
    "#this is the answer that we need to give to the mcdonald."
   ]
  },
  {
   "cell_type": "code",
   "execution_count": 27,
   "metadata": {
    "colab": {
     "base_uri": "https://localhost:8080/",
     "height": 80
    },
    "id": "GLd_2PV4F2we",
    "outputId": "4ea6ece7-bd76-4866-c6f6-72741e87c452"
   },
   "outputs": [
    {
     "data": {
      "text/html": [
       "<div>\n",
       "<style scoped>\n",
       "    .dataframe tbody tr th:only-of-type {\n",
       "        vertical-align: middle;\n",
       "    }\n",
       "\n",
       "    .dataframe tbody tr th {\n",
       "        vertical-align: top;\n",
       "    }\n",
       "\n",
       "    .dataframe thead th {\n",
       "        text-align: right;\n",
       "    }\n",
       "</style>\n",
       "<table border=\"1\" class=\"dataframe\">\n",
       "  <thead>\n",
       "    <tr style=\"text-align: right;\">\n",
       "      <th></th>\n",
       "      <th>store_address</th>\n",
       "      <th>review</th>\n",
       "      <th>compound</th>\n",
       "      <th>neg</th>\n",
       "      <th>neu</th>\n",
       "      <th>pos</th>\n",
       "      <th>processed review</th>\n",
       "    </tr>\n",
       "  </thead>\n",
       "  <tbody>\n",
       "    <tr>\n",
       "      <th>0</th>\n",
       "      <td>13749 US-183 Hwy, Austin, TX 78750, United States</td>\n",
       "      <td>Why does it look like someone spit on my food?...</td>\n",
       "      <td>0.5215</td>\n",
       "      <td>0.027</td>\n",
       "      <td>0.879</td>\n",
       "      <td>0.094</td>\n",
       "      <td>[look, like, someon, spit, food, normal, trans...</td>\n",
       "    </tr>\n",
       "    <tr>\n",
       "      <th>1</th>\n",
       "      <td>13749 US-183 Hwy, Austin, TX 78750, United States</td>\n",
       "      <td>It'd McDonalds. It is what it is as far as the...</td>\n",
       "      <td>0.8687</td>\n",
       "      <td>0.000</td>\n",
       "      <td>0.791</td>\n",
       "      <td>0.209</td>\n",
       "      <td>[it'd, mcdonald, far, food, atmospher, go, sta...</td>\n",
       "    </tr>\n",
       "    <tr>\n",
       "      <th>2</th>\n",
       "      <td>13749 US-183 Hwy, Austin, TX 78750, United States</td>\n",
       "      <td>Made a mobile order got to the speaker and che...</td>\n",
       "      <td>-0.3535</td>\n",
       "      <td>0.051</td>\n",
       "      <td>0.949</td>\n",
       "      <td>0.000</td>\n",
       "      <td>[made, mobil, order, got, speaker, check, line...</td>\n",
       "    </tr>\n",
       "    <tr>\n",
       "      <th>3</th>\n",
       "      <td>13749 US-183 Hwy, Austin, TX 78750, United States</td>\n",
       "      <td>My mc. Crispy chicken sandwich was ï¿½ï¿½ï¿½ï¿...</td>\n",
       "      <td>0.0000</td>\n",
       "      <td>0.000</td>\n",
       "      <td>1.000</td>\n",
       "      <td>0.000</td>\n",
       "      <td>[mc, crispi, chicken, sandwich, custom, servic...</td>\n",
       "    </tr>\n",
       "    <tr>\n",
       "      <th>4</th>\n",
       "      <td>13749 US-183 Hwy, Austin, TX 78750, United States</td>\n",
       "      <td>I repeat my order 3 times in the drive thru, a...</td>\n",
       "      <td>-0.8020</td>\n",
       "      <td>0.143</td>\n",
       "      <td>0.857</td>\n",
       "      <td>0.000</td>\n",
       "      <td>[repeat, order, 3, time, drive, thru, still, m...</td>\n",
       "    </tr>\n",
       "    <tr>\n",
       "      <th>...</th>\n",
       "      <td>...</td>\n",
       "      <td>...</td>\n",
       "      <td>...</td>\n",
       "      <td>...</td>\n",
       "      <td>...</td>\n",
       "      <td>...</td>\n",
       "      <td>...</td>\n",
       "    </tr>\n",
       "    <tr>\n",
       "      <th>32251</th>\n",
       "      <td>632 S R L Thornton Freeway Service Rd, Dallas,...</td>\n",
       "      <td>Excellent service by drivetru Very Rapids atte...</td>\n",
       "      <td>0.8832</td>\n",
       "      <td>0.000</td>\n",
       "      <td>0.538</td>\n",
       "      <td>0.462</td>\n",
       "      <td>[excel, servic, drivetru, rapid, attent, also,...</td>\n",
       "    </tr>\n",
       "    <tr>\n",
       "      <th>32252</th>\n",
       "      <td>632 S R L Thornton Freeway Service Rd, Dallas,...</td>\n",
       "      <td>The decoration is nice, the attention is good,...</td>\n",
       "      <td>0.8820</td>\n",
       "      <td>0.000</td>\n",
       "      <td>0.615</td>\n",
       "      <td>0.385</td>\n",
       "      <td>[decor, nice, attent, good, place, need, good,...</td>\n",
       "    </tr>\n",
       "    <tr>\n",
       "      <th>32253</th>\n",
       "      <td>632 S R L Thornton Freeway Service Rd, Dallas,...</td>\n",
       "      <td>Ideal to go with your children to enjoy good f...</td>\n",
       "      <td>0.9153</td>\n",
       "      <td>0.000</td>\n",
       "      <td>0.385</td>\n",
       "      <td>0.615</td>\n",
       "      <td>[ideal, go, children, enjoy, good, food, fun]</td>\n",
       "    </tr>\n",
       "    <tr>\n",
       "      <th>32254</th>\n",
       "      <td>632 S R L Thornton Freeway Service Rd, Dallas,...</td>\n",
       "      <td>They did not attend me and given the size stan...</td>\n",
       "      <td>-0.4767</td>\n",
       "      <td>0.075</td>\n",
       "      <td>0.925</td>\n",
       "      <td>0.000</td>\n",
       "      <td>[attend, given, size, standard, open, enter, i...</td>\n",
       "    </tr>\n",
       "    <tr>\n",
       "      <th>32255</th>\n",
       "      <td>632 S R L Thornton Freeway Service Rd, Dallas,...</td>\n",
       "      <td>ýýýýýýýý Terrible service... they never give y...</td>\n",
       "      <td>-0.8885</td>\n",
       "      <td>0.365</td>\n",
       "      <td>0.570</td>\n",
       "      <td>0.066</td>\n",
       "      <td>[terribl, servic, never, give, ask, terribl, t...</td>\n",
       "    </tr>\n",
       "  </tbody>\n",
       "</table>\n",
       "<p>6029 rows × 7 columns</p>\n",
       "</div>"
      ],
      "text/plain": [
       "                                           store_address  \\\n",
       "0      13749 US-183 Hwy, Austin, TX 78750, United States   \n",
       "1      13749 US-183 Hwy, Austin, TX 78750, United States   \n",
       "2      13749 US-183 Hwy, Austin, TX 78750, United States   \n",
       "3      13749 US-183 Hwy, Austin, TX 78750, United States   \n",
       "4      13749 US-183 Hwy, Austin, TX 78750, United States   \n",
       "...                                                  ...   \n",
       "32251  632 S R L Thornton Freeway Service Rd, Dallas,...   \n",
       "32252  632 S R L Thornton Freeway Service Rd, Dallas,...   \n",
       "32253  632 S R L Thornton Freeway Service Rd, Dallas,...   \n",
       "32254  632 S R L Thornton Freeway Service Rd, Dallas,...   \n",
       "32255  632 S R L Thornton Freeway Service Rd, Dallas,...   \n",
       "\n",
       "                                                  review  compound    neg  \\\n",
       "0      Why does it look like someone spit on my food?...    0.5215  0.027   \n",
       "1      It'd McDonalds. It is what it is as far as the...    0.8687  0.000   \n",
       "2      Made a mobile order got to the speaker and che...   -0.3535  0.051   \n",
       "3      My mc. Crispy chicken sandwich was ï¿½ï¿½ï¿½ï¿...    0.0000  0.000   \n",
       "4      I repeat my order 3 times in the drive thru, a...   -0.8020  0.143   \n",
       "...                                                  ...       ...    ...   \n",
       "32251  Excellent service by drivetru Very Rapids atte...    0.8832  0.000   \n",
       "32252  The decoration is nice, the attention is good,...    0.8820  0.000   \n",
       "32253  Ideal to go with your children to enjoy good f...    0.9153  0.000   \n",
       "32254  They did not attend me and given the size stan...   -0.4767  0.075   \n",
       "32255  ýýýýýýýý Terrible service... they never give y...   -0.8885  0.365   \n",
       "\n",
       "         neu    pos                                   processed review  \n",
       "0      0.879  0.094  [look, like, someon, spit, food, normal, trans...  \n",
       "1      0.791  0.209  [it'd, mcdonald, far, food, atmospher, go, sta...  \n",
       "2      0.949  0.000  [made, mobil, order, got, speaker, check, line...  \n",
       "3      1.000  0.000  [mc, crispi, chicken, sandwich, custom, servic...  \n",
       "4      0.857  0.000  [repeat, order, 3, time, drive, thru, still, m...  \n",
       "...      ...    ...                                                ...  \n",
       "32251  0.538  0.462  [excel, servic, drivetru, rapid, attent, also,...  \n",
       "32252  0.615  0.385  [decor, nice, attent, good, place, need, good,...  \n",
       "32253  0.385  0.615      [ideal, go, children, enjoy, good, food, fun]  \n",
       "32254  0.925  0.000  [attend, given, size, standard, open, enter, i...  \n",
       "32255  0.570  0.066  [terribl, servic, never, give, ask, terribl, t...  \n",
       "\n",
       "[6029 rows x 7 columns]"
      ]
     },
     "execution_count": 27,
     "metadata": {},
     "output_type": "execute_result"
    }
   ],
   "source": [
    "#we can check which word comes more often in the very bad reviews of the Austin mcdonalds:\n",
    "# to do so we will  first need to preprocess the whole texas reviews so that later we can build a model to detect if the \n",
    "# review is negative\n",
    "\n",
    "#create stop_words english var\n",
    "stop_words=nltk.corpus.stopwords.words('english')\n",
    "\n",
    "#we first create a funtion to preprocess our text:\n",
    "\n",
    "def preprocess_text(text):\n",
    "  tokenazed_document= nltk.tokenize.RegexpTokenizer('[a-zA-Z0-9\\']+').tokenize(text) #Tokenize\n",
    "  cleaned_tokens=[word.lower() for word in tokenazed_document if word.lower() not in stop_words]\n",
    "  stemmed_text=[nltk.stem.PorterStemmer().stem(word) for word in cleaned_tokens]\n",
    "  return stemmed_text\n",
    "\n",
    "#then use the function to preprocess the reviews:\n",
    "tx_addresses['processed review']=tx_addresses['review'].apply(preprocess_text)\n",
    "tx_addresses"
   ]
  },
  {
   "cell_type": "code",
   "execution_count": 24,
   "metadata": {
    "colab": {
     "base_uri": "https://localhost:8080/",
     "height": 80
    },
    "id": "nKywGtcnF92o",
    "outputId": "a227cb3d-ccef-47f5-de60-a6c132da2975"
   },
   "outputs": [
    {
     "data": {
      "text/html": [
       "<div>\n",
       "<style scoped>\n",
       "    .dataframe tbody tr th:only-of-type {\n",
       "        vertical-align: middle;\n",
       "    }\n",
       "\n",
       "    .dataframe tbody tr th {\n",
       "        vertical-align: top;\n",
       "    }\n",
       "\n",
       "    .dataframe thead th {\n",
       "        text-align: right;\n",
       "    }\n",
       "</style>\n",
       "<table border=\"1\" class=\"dataframe\">\n",
       "  <thead>\n",
       "    <tr style=\"text-align: right;\">\n",
       "      <th></th>\n",
       "      <th>store_address</th>\n",
       "      <th>review</th>\n",
       "      <th>compound</th>\n",
       "      <th>neg</th>\n",
       "      <th>neu</th>\n",
       "      <th>pos</th>\n",
       "      <th>processed review</th>\n",
       "    </tr>\n",
       "  </thead>\n",
       "  <tbody>\n",
       "    <tr>\n",
       "      <th>4</th>\n",
       "      <td>13749 US-183 Hwy, Austin, TX 78750, United States</td>\n",
       "      <td>I repeat my order 3 times in the drive thru, a...</td>\n",
       "      <td>-0.802</td>\n",
       "      <td>0.143</td>\n",
       "      <td>0.857</td>\n",
       "      <td>0.0</td>\n",
       "      <td>[repeat, order, 3, time, drive, thru, still, m...</td>\n",
       "    </tr>\n",
       "  </tbody>\n",
       "</table>\n",
       "</div>"
      ],
      "text/plain": [
       "                                       store_address  \\\n",
       "4  13749 US-183 Hwy, Austin, TX 78750, United States   \n",
       "\n",
       "                                              review  compound    neg    neu  \\\n",
       "4  I repeat my order 3 times in the drive thru, a...    -0.802  0.143  0.857   \n",
       "\n",
       "   pos                                   processed review  \n",
       "4  0.0  [repeat, order, 3, time, drive, thru, still, m...  "
      ]
     },
     "execution_count": 24,
     "metadata": {},
     "output_type": "execute_result"
    }
   ],
   "source": [
    "#now we index the Austin very bad reviews:\n",
    "\n",
    "very_neg_reviews=tx_addresses.loc[(tx_addresses['store_address']=='13749 US-183 Hwy, Austin, TX 78750, United States')\n",
    "                     & (tx_addresses['compound']<= -0.5),:]\n",
    "\n",
    "very_neg_reviews.head(1)"
   ]
  },
  {
   "cell_type": "code",
   "execution_count": 25,
   "metadata": {
    "colab": {
     "base_uri": "https://localhost:8080/",
     "height": 452
    },
    "id": "C0t5s9mcGeYv",
    "outputId": "6f372db7-9c74-465f-abe7-f785eeb1adde"
   },
   "outputs": [
    {
     "ename": "ValueError",
     "evalue": "Only supported for TrueType fonts",
     "output_type": "error",
     "traceback": [
      "\u001b[1;31m---------------------------------------------------------------------------\u001b[0m",
      "\u001b[1;31mValueError\u001b[0m                                Traceback (most recent call last)",
      "Input \u001b[1;32mIn [25]\u001b[0m, in \u001b[0;36m<cell line: 5>\u001b[1;34m()\u001b[0m\n\u001b[0;32m      1\u001b[0m \u001b[38;5;66;03m# wordcloud of words from negative reviews by product:\u001b[39;00m\n\u001b[0;32m      3\u001b[0m neg_tokens\u001b[38;5;241m=\u001b[39m[word \u001b[38;5;28;01mfor\u001b[39;00m review \u001b[38;5;129;01min\u001b[39;00m very_neg_reviews[\u001b[38;5;124m'\u001b[39m\u001b[38;5;124mprocessed review\u001b[39m\u001b[38;5;124m'\u001b[39m] \u001b[38;5;28;01mfor\u001b[39;00m word \u001b[38;5;129;01min\u001b[39;00m review]\n\u001b[1;32m----> 5\u001b[0m wordcloud\u001b[38;5;241m=\u001b[39m \u001b[43mWordCloud\u001b[49m\u001b[43m(\u001b[49m\u001b[43mbackground_color\u001b[49m\u001b[38;5;241;43m=\u001b[39;49m\u001b[38;5;124;43m'\u001b[39;49m\u001b[38;5;124;43mwhite\u001b[39;49m\u001b[38;5;124;43m'\u001b[39;49m\u001b[43m)\u001b[49m\u001b[38;5;241;43m.\u001b[39;49m\u001b[43mgenerate_from_text\u001b[49m\u001b[43m(\u001b[49m\u001b[38;5;124;43m'\u001b[39;49m\u001b[38;5;124;43m \u001b[39;49m\u001b[38;5;124;43m'\u001b[39;49m\u001b[38;5;241;43m.\u001b[39;49m\u001b[43mjoin\u001b[49m\u001b[43m(\u001b[49m\u001b[43mneg_tokens\u001b[49m\u001b[43m)\u001b[49m\u001b[43m)\u001b[49m\n\u001b[0;32m      7\u001b[0m \u001b[38;5;66;03m# Display the generated image\u001b[39;00m\n\u001b[0;32m      9\u001b[0m plt\u001b[38;5;241m.\u001b[39mfigure(figsize\u001b[38;5;241m=\u001b[39m(\u001b[38;5;241m10\u001b[39m,\u001b[38;5;241m10\u001b[39m))\n",
      "File \u001b[1;32mD:\\anton\\anaconda\\lib\\site-packages\\wordcloud\\wordcloud.py:621\u001b[0m, in \u001b[0;36mWordCloud.generate_from_text\u001b[1;34m(self, text)\u001b[0m\n\u001b[0;32m    604\u001b[0m \u001b[38;5;124;03m\"\"\"Generate wordcloud from text.\u001b[39;00m\n\u001b[0;32m    605\u001b[0m \n\u001b[0;32m    606\u001b[0m \u001b[38;5;124;03mThe input \"text\" is expected to be a natural text. If you pass a sorted\u001b[39;00m\n\u001b[1;32m   (...)\u001b[0m\n\u001b[0;32m    618\u001b[0m \u001b[38;5;124;03mself\u001b[39;00m\n\u001b[0;32m    619\u001b[0m \u001b[38;5;124;03m\"\"\"\u001b[39;00m\n\u001b[0;32m    620\u001b[0m words \u001b[38;5;241m=\u001b[39m \u001b[38;5;28mself\u001b[39m\u001b[38;5;241m.\u001b[39mprocess_text(text)\n\u001b[1;32m--> 621\u001b[0m \u001b[38;5;28;43mself\u001b[39;49m\u001b[38;5;241;43m.\u001b[39;49m\u001b[43mgenerate_from_frequencies\u001b[49m\u001b[43m(\u001b[49m\u001b[43mwords\u001b[49m\u001b[43m)\u001b[49m\n\u001b[0;32m    622\u001b[0m \u001b[38;5;28;01mreturn\u001b[39;00m \u001b[38;5;28mself\u001b[39m\n",
      "File \u001b[1;32mD:\\anton\\anaconda\\lib\\site-packages\\wordcloud\\wordcloud.py:453\u001b[0m, in \u001b[0;36mWordCloud.generate_from_frequencies\u001b[1;34m(self, frequencies, max_font_size)\u001b[0m\n\u001b[0;32m    451\u001b[0m     font_size \u001b[38;5;241m=\u001b[39m \u001b[38;5;28mself\u001b[39m\u001b[38;5;241m.\u001b[39mheight\n\u001b[0;32m    452\u001b[0m \u001b[38;5;28;01melse\u001b[39;00m:\n\u001b[1;32m--> 453\u001b[0m     \u001b[38;5;28;43mself\u001b[39;49m\u001b[38;5;241;43m.\u001b[39;49m\u001b[43mgenerate_from_frequencies\u001b[49m\u001b[43m(\u001b[49m\u001b[38;5;28;43mdict\u001b[39;49m\u001b[43m(\u001b[49m\u001b[43mfrequencies\u001b[49m\u001b[43m[\u001b[49m\u001b[43m:\u001b[49m\u001b[38;5;241;43m2\u001b[39;49m\u001b[43m]\u001b[49m\u001b[43m)\u001b[49m\u001b[43m,\u001b[49m\n\u001b[0;32m    454\u001b[0m \u001b[43m                                   \u001b[49m\u001b[43mmax_font_size\u001b[49m\u001b[38;5;241;43m=\u001b[39;49m\u001b[38;5;28;43mself\u001b[39;49m\u001b[38;5;241;43m.\u001b[39;49m\u001b[43mheight\u001b[49m\u001b[43m)\u001b[49m\n\u001b[0;32m    455\u001b[0m     \u001b[38;5;66;03m# find font sizes\u001b[39;00m\n\u001b[0;32m    456\u001b[0m     sizes \u001b[38;5;241m=\u001b[39m [x[\u001b[38;5;241m1\u001b[39m] \u001b[38;5;28;01mfor\u001b[39;00m x \u001b[38;5;129;01min\u001b[39;00m \u001b[38;5;28mself\u001b[39m\u001b[38;5;241m.\u001b[39mlayout_]\n",
      "File \u001b[1;32mD:\\anton\\anaconda\\lib\\site-packages\\wordcloud\\wordcloud.py:508\u001b[0m, in \u001b[0;36mWordCloud.generate_from_frequencies\u001b[1;34m(self, frequencies, max_font_size)\u001b[0m\n\u001b[0;32m    505\u001b[0m transposed_font \u001b[38;5;241m=\u001b[39m ImageFont\u001b[38;5;241m.\u001b[39mTransposedFont(\n\u001b[0;32m    506\u001b[0m     font, orientation\u001b[38;5;241m=\u001b[39morientation)\n\u001b[0;32m    507\u001b[0m \u001b[38;5;66;03m# get size of resulting text\u001b[39;00m\n\u001b[1;32m--> 508\u001b[0m box_size \u001b[38;5;241m=\u001b[39m \u001b[43mdraw\u001b[49m\u001b[38;5;241;43m.\u001b[39;49m\u001b[43mtextbbox\u001b[49m\u001b[43m(\u001b[49m\u001b[43m(\u001b[49m\u001b[38;5;241;43m0\u001b[39;49m\u001b[43m,\u001b[49m\u001b[43m \u001b[49m\u001b[38;5;241;43m0\u001b[39;49m\u001b[43m)\u001b[49m\u001b[43m,\u001b[49m\u001b[43m \u001b[49m\u001b[43mword\u001b[49m\u001b[43m,\u001b[49m\u001b[43m \u001b[49m\u001b[43mfont\u001b[49m\u001b[38;5;241;43m=\u001b[39;49m\u001b[43mtransposed_font\u001b[49m\u001b[43m,\u001b[49m\u001b[43m \u001b[49m\u001b[43manchor\u001b[49m\u001b[38;5;241;43m=\u001b[39;49m\u001b[38;5;124;43m\"\u001b[39;49m\u001b[38;5;124;43mlt\u001b[39;49m\u001b[38;5;124;43m\"\u001b[39;49m\u001b[43m)\u001b[49m\n\u001b[0;32m    509\u001b[0m \u001b[38;5;66;03m# find possible places using integral image:\u001b[39;00m\n\u001b[0;32m    510\u001b[0m result \u001b[38;5;241m=\u001b[39m occupancy\u001b[38;5;241m.\u001b[39msample_position(box_size[\u001b[38;5;241m3\u001b[39m] \u001b[38;5;241m+\u001b[39m \u001b[38;5;28mself\u001b[39m\u001b[38;5;241m.\u001b[39mmargin,\n\u001b[0;32m    511\u001b[0m                                    box_size[\u001b[38;5;241m2\u001b[39m] \u001b[38;5;241m+\u001b[39m \u001b[38;5;28mself\u001b[39m\u001b[38;5;241m.\u001b[39mmargin,\n\u001b[0;32m    512\u001b[0m                                    random_state)\n",
      "File \u001b[1;32mD:\\anton\\anaconda\\lib\\site-packages\\PIL\\ImageDraw.py:671\u001b[0m, in \u001b[0;36mImageDraw.textbbox\u001b[1;34m(self, xy, text, font, anchor, spacing, align, direction, features, language, stroke_width, embedded_color)\u001b[0m\n\u001b[0;32m    669\u001b[0m     font \u001b[38;5;241m=\u001b[39m \u001b[38;5;28mself\u001b[39m\u001b[38;5;241m.\u001b[39mgetfont()\n\u001b[0;32m    670\u001b[0m \u001b[38;5;28;01mif\u001b[39;00m \u001b[38;5;129;01mnot\u001b[39;00m \u001b[38;5;28misinstance\u001b[39m(font, ImageFont\u001b[38;5;241m.\u001b[39mFreeTypeFont):\n\u001b[1;32m--> 671\u001b[0m     \u001b[38;5;28;01mraise\u001b[39;00m \u001b[38;5;167;01mValueError\u001b[39;00m(\u001b[38;5;124m\"\u001b[39m\u001b[38;5;124mOnly supported for TrueType fonts\u001b[39m\u001b[38;5;124m\"\u001b[39m)\n\u001b[0;32m    672\u001b[0m mode \u001b[38;5;241m=\u001b[39m \u001b[38;5;124m\"\u001b[39m\u001b[38;5;124mRGBA\u001b[39m\u001b[38;5;124m\"\u001b[39m \u001b[38;5;28;01mif\u001b[39;00m embedded_color \u001b[38;5;28;01melse\u001b[39;00m \u001b[38;5;28mself\u001b[39m\u001b[38;5;241m.\u001b[39mfontmode\n\u001b[0;32m    673\u001b[0m bbox \u001b[38;5;241m=\u001b[39m font\u001b[38;5;241m.\u001b[39mgetbbox(\n\u001b[0;32m    674\u001b[0m     text, mode, direction, features, language, stroke_width, anchor\n\u001b[0;32m    675\u001b[0m )\n",
      "\u001b[1;31mValueError\u001b[0m: Only supported for TrueType fonts"
     ]
    }
   ],
   "source": [
    "# wordcloud of words from negative reviews by product:\n",
    "\n",
    "neg_tokens=[word for review in very_neg_reviews['processed review'] for word in review]\n",
    "\n",
    "wordcloud= WordCloud(background_color='white').generate_from_text(' '.join(neg_tokens))\n",
    "\n",
    "# Display the generated image\n",
    "\n",
    "plt.figure(figsize=(10,10))\n",
    "plt.imshow(wordcloud,interpolation='bilinear')\n",
    "plt.axis=('off')\n",
    "plt.show()"
   ]
  },
  {
   "cell_type": "code",
   "execution_count": 28,
   "metadata": {
    "colab": {
     "base_uri": "https://localhost:8080/"
    },
    "id": "Uy92IOQzGEqX",
    "outputId": "578971eb-bddc-4cd4-9594-351e87206559"
   },
   "outputs": [
    {
     "name": "stdout",
     "output_type": "stream",
     "text": [
      "    order       get      time       bad    servic     drive     manag        go      food      rude      thru       one     locat       fri     wrong       ask      wait      give       got      like      back     close     place    window     never      mess      even     everi mcdonald'     alway \n",
      "       69        35        31        29        28        25        22        22        22        22        19        18        17        16        16        16        15        14        14        14        14        12        12        12        12        11        11        11        11        11 \n"
     ]
    }
   ],
   "source": [
    "# use the nltk FreqDistr and then tabulate:\n",
    "\n",
    "\n",
    "\n",
    "from nltk.probability import FreqDist\n",
    "\n",
    "neg_freqdistr= FreqDist(neg_tokens)\n",
    "\n",
    "neg_freqdistr.tabulate(30)"
   ]
  },
  {
   "cell_type": "code",
   "execution_count": 29,
   "metadata": {
    "colab": {
     "base_uri": "https://localhost:8080/",
     "height": 501
    },
    "id": "znn_iNwAGJE9",
    "outputId": "9e14c11d-dadc-47a2-ff4b-7e11060cb4fc"
   },
   "outputs": [
    {
     "data": {
      "image/png": "[encoded data removed]",
      "text/plain": [
       "<Figure size 432x288 with 1 Axes>"
      ]
     },
     "metadata": {
      "needs_background": "light"
     },
     "output_type": "display_data"
    },
    {
     "data": {
      "text/plain": [
       "<AxesSubplot:xlabel='Samples', ylabel='Counts'>"
      ]
     },
     "execution_count": 29,
     "metadata": {},
     "output_type": "execute_result"
    }
   ],
   "source": [
    "neg_freqdistr.plot(20)"
   ]
  },
  {
   "cell_type": "code",
   "execution_count": 30,
   "metadata": {
    "colab": {
     "base_uri": "https://localhost:8080/"
    },
    "id": "lmc0MIW9G3bh",
    "outputId": "4e8a86a2-0f7b-4e6e-b1d3-70ff714269f1"
   },
   "outputs": [
    {
     "name": "stdout",
     "output_type": "stream",
     "text": [
      "                                                  review  compound sentiment\n",
      "0      Why does it look like someone spit on my food?...    0.5215  positive\n",
      "1      It'd McDonalds. It is what it is as far as the...    0.8687  positive\n",
      "2      Made a mobile order got to the speaker and che...   -0.3535  negative\n",
      "3      My mc. Crispy chicken sandwich was ï¿½ï¿½ï¿½ï¿...    0.0000   neutral\n",
      "4      I repeat my order 3 times in the drive thru, a...   -0.8020  negative\n",
      "...                                                  ...       ...       ...\n",
      "32251  Excellent service by drivetru Very Rapids atte...    0.8832  positive\n",
      "32252  The decoration is nice, the attention is good,...    0.8820  positive\n",
      "32253  Ideal to go with your children to enjoy good f...    0.9153  positive\n",
      "32254  They did not attend me and given the size stan...   -0.4767  negative\n",
      "32255  ýýýýýýýý Terrible service... they never give y...   -0.8885  negative\n",
      "\n",
      "[6029 rows x 3 columns]\n"
     ]
    }
   ],
   "source": [
    "# we will now create a column where we  will store if the review is positive or negative or neutral\n",
    "\n",
    "# this way Texas mc donald will be able to use a model to detect the happiness of the customer, and if classified as\n",
    "#bad review, include a gift.\n",
    "\n",
    "\n",
    "threshold_negative = -0.05\n",
    "threshold_positive = 0.05\n",
    "\n",
    "def classify_sentiment(compound):\n",
    "      if compound >= threshold_positive:\n",
    "        return 'positive'\n",
    "      elif compound <= threshold_negative:\n",
    "        return 'negative'\n",
    "      else:\n",
    "        return 'neutral'\n",
    "\n",
    "# Apply the function to create the 'sentiment' column\n",
    "tx_addresses['sentiment'] = tx_addresses['compound'].apply(classify_sentiment)\n",
    "\n",
    "# Display the DataFrame with sentiment labels\n",
    "print(tx_addresses[['review', 'compound', 'sentiment']])"
   ]
  },
  {
   "cell_type": "code",
   "execution_count": 31,
   "metadata": {
    "colab": {
     "base_uri": "https://localhost:8080/",
     "height": 235
    },
    "id": "FmdhUOreG_hV",
    "outputId": "44a12935-af58-40f0-872a-538fe14254ea"
   },
   "outputs": [
    {
     "data": {
      "text/html": [
       "<div>\n",
       "<style scoped>\n",
       "    .dataframe tbody tr th:only-of-type {\n",
       "        vertical-align: middle;\n",
       "    }\n",
       "\n",
       "    .dataframe tbody tr th {\n",
       "        vertical-align: top;\n",
       "    }\n",
       "\n",
       "    .dataframe thead th {\n",
       "        text-align: right;\n",
       "    }\n",
       "</style>\n",
       "<table border=\"1\" class=\"dataframe\">\n",
       "  <thead>\n",
       "    <tr style=\"text-align: right;\">\n",
       "      <th></th>\n",
       "      <th>0</th>\n",
       "      <th>1</th>\n",
       "      <th>2</th>\n",
       "      <th>3</th>\n",
       "      <th>4</th>\n",
       "      <th>5</th>\n",
       "      <th>6</th>\n",
       "      <th>7</th>\n",
       "      <th>8</th>\n",
       "      <th>9</th>\n",
       "      <th>...</th>\n",
       "      <th>3877</th>\n",
       "      <th>3878</th>\n",
       "      <th>3879</th>\n",
       "      <th>3880</th>\n",
       "      <th>3881</th>\n",
       "      <th>3882</th>\n",
       "      <th>3883</th>\n",
       "      <th>3884</th>\n",
       "      <th>3885</th>\n",
       "      <th>3886</th>\n",
       "    </tr>\n",
       "  </thead>\n",
       "  <tbody>\n",
       "    <tr>\n",
       "      <th>0</th>\n",
       "      <td>0</td>\n",
       "      <td>0</td>\n",
       "      <td>0</td>\n",
       "      <td>0</td>\n",
       "      <td>0</td>\n",
       "      <td>0</td>\n",
       "      <td>0</td>\n",
       "      <td>0</td>\n",
       "      <td>0</td>\n",
       "      <td>0</td>\n",
       "      <td>...</td>\n",
       "      <td>0</td>\n",
       "      <td>0</td>\n",
       "      <td>0</td>\n",
       "      <td>0</td>\n",
       "      <td>0</td>\n",
       "      <td>0</td>\n",
       "      <td>0</td>\n",
       "      <td>0</td>\n",
       "      <td>0</td>\n",
       "      <td>0</td>\n",
       "    </tr>\n",
       "    <tr>\n",
       "      <th>1</th>\n",
       "      <td>0</td>\n",
       "      <td>0</td>\n",
       "      <td>0</td>\n",
       "      <td>0</td>\n",
       "      <td>0</td>\n",
       "      <td>0</td>\n",
       "      <td>0</td>\n",
       "      <td>0</td>\n",
       "      <td>0</td>\n",
       "      <td>0</td>\n",
       "      <td>...</td>\n",
       "      <td>0</td>\n",
       "      <td>0</td>\n",
       "      <td>0</td>\n",
       "      <td>0</td>\n",
       "      <td>0</td>\n",
       "      <td>0</td>\n",
       "      <td>0</td>\n",
       "      <td>0</td>\n",
       "      <td>0</td>\n",
       "      <td>0</td>\n",
       "    </tr>\n",
       "    <tr>\n",
       "      <th>2</th>\n",
       "      <td>0</td>\n",
       "      <td>0</td>\n",
       "      <td>0</td>\n",
       "      <td>0</td>\n",
       "      <td>0</td>\n",
       "      <td>0</td>\n",
       "      <td>0</td>\n",
       "      <td>0</td>\n",
       "      <td>0</td>\n",
       "      <td>0</td>\n",
       "      <td>...</td>\n",
       "      <td>0</td>\n",
       "      <td>0</td>\n",
       "      <td>0</td>\n",
       "      <td>0</td>\n",
       "      <td>0</td>\n",
       "      <td>0</td>\n",
       "      <td>0</td>\n",
       "      <td>0</td>\n",
       "      <td>0</td>\n",
       "      <td>0</td>\n",
       "    </tr>\n",
       "    <tr>\n",
       "      <th>3</th>\n",
       "      <td>0</td>\n",
       "      <td>0</td>\n",
       "      <td>0</td>\n",
       "      <td>0</td>\n",
       "      <td>0</td>\n",
       "      <td>0</td>\n",
       "      <td>0</td>\n",
       "      <td>0</td>\n",
       "      <td>0</td>\n",
       "      <td>0</td>\n",
       "      <td>...</td>\n",
       "      <td>0</td>\n",
       "      <td>0</td>\n",
       "      <td>0</td>\n",
       "      <td>0</td>\n",
       "      <td>0</td>\n",
       "      <td>0</td>\n",
       "      <td>0</td>\n",
       "      <td>0</td>\n",
       "      <td>0</td>\n",
       "      <td>0</td>\n",
       "    </tr>\n",
       "    <tr>\n",
       "      <th>4</th>\n",
       "      <td>0</td>\n",
       "      <td>0</td>\n",
       "      <td>0</td>\n",
       "      <td>0</td>\n",
       "      <td>0</td>\n",
       "      <td>0</td>\n",
       "      <td>0</td>\n",
       "      <td>0</td>\n",
       "      <td>0</td>\n",
       "      <td>0</td>\n",
       "      <td>...</td>\n",
       "      <td>0</td>\n",
       "      <td>0</td>\n",
       "      <td>0</td>\n",
       "      <td>0</td>\n",
       "      <td>0</td>\n",
       "      <td>0</td>\n",
       "      <td>0</td>\n",
       "      <td>0</td>\n",
       "      <td>0</td>\n",
       "      <td>0</td>\n",
       "    </tr>\n",
       "  </tbody>\n",
       "</table>\n",
       "<p>5 rows × 3887 columns</p>\n",
       "</div>"
      ],
      "text/plain": [
       "   0     1     2     3     4     5     6     7     8     9     ...  3877  \\\n",
       "0     0     0     0     0     0     0     0     0     0     0  ...     0   \n",
       "1     0     0     0     0     0     0     0     0     0     0  ...     0   \n",
       "2     0     0     0     0     0     0     0     0     0     0  ...     0   \n",
       "3     0     0     0     0     0     0     0     0     0     0  ...     0   \n",
       "4     0     0     0     0     0     0     0     0     0     0  ...     0   \n",
       "\n",
       "   3878  3879  3880  3881  3882  3883  3884  3885  3886  \n",
       "0     0     0     0     0     0     0     0     0     0  \n",
       "1     0     0     0     0     0     0     0     0     0  \n",
       "2     0     0     0     0     0     0     0     0     0  \n",
       "3     0     0     0     0     0     0     0     0     0  \n",
       "4     0     0     0     0     0     0     0     0     0  \n",
       "\n",
       "[5 rows x 3887 columns]"
      ]
     },
     "execution_count": 31,
     "metadata": {},
     "output_type": "execute_result"
    }
   ],
   "source": [
    "#The next step is to generate our Term Frequency Matrix. We can do this using CountVectorizer in\n",
    "#Scikit Learn. This takes our tokenized text and vectorizes it – we can then use this to create\n",
    "#a new Data Frame which will be our features for training. We can use head() to view the first few rows of this new Data Frame.\n",
    "\n",
    "\n",
    "\n",
    "\n",
    "from sklearn.feature_extraction.text import CountVectorizer\n",
    "vectorizer=CountVectorizer()\n",
    "X=vectorizer.fit_transform(tx_addresses['processed review'].map(' '.join))\n",
    "X=pd.DataFrame(X.toarray())\n",
    "X.head()"
   ]
  },
  {
   "cell_type": "code",
   "execution_count": 32,
   "metadata": {
    "colab": {
     "base_uri": "https://localhost:8080/",
     "height": 466
    },
    "id": "Y4IkexzJHLYJ",
    "outputId": "3ee951ec-3093-4dce-cfa8-5127f2149eba"
   },
   "outputs": [
    {
     "data": {
      "text/plain": [
       "<AxesSubplot:xlabel='sentiment', ylabel='count'>"
      ]
     },
     "execution_count": 32,
     "metadata": {},
     "output_type": "execute_result"
    },
    {
     "data": {
      "image/png": "[encoded data removed]",
      "text/plain": [
       "<Figure size 432x288 with 1 Axes>"
      ]
     },
     "metadata": {
      "needs_background": "light"
     },
     "output_type": "display_data"
    }
   ],
   "source": [
    "# check if the data is balanced:\n",
    "\n",
    "sns.countplot(x=tx_addresses['sentiment'])"
   ]
  },
  {
   "cell_type": "code",
   "execution_count": 33,
   "metadata": {
    "id": "8Cmiv37GHNpR"
   },
   "outputs": [],
   "source": [
    "#split between train and test:\n",
    "from sklearn.model_selection import train_test_split\n",
    "\n",
    "y=tx_addresses['sentiment']\n",
    "\n",
    "X_train,X_test,y_train,y_test=train_test_split(X,y,train_size=0.8,test_size=0.2,random_state=99)"
   ]
  },
  {
   "cell_type": "code",
   "execution_count": 34,
   "metadata": {
    "colab": {
     "base_uri": "https://localhost:8080/",
     "height": 466
    },
    "id": "G-DQMXJ3HQNK",
    "outputId": "0e7a4cb4-65f7-42c4-cbe0-f3a90773f330"
   },
   "outputs": [
    {
     "name": "stderr",
     "output_type": "stream",
     "text": [
      "D:\\anton\\anaconda\\lib\\site-packages\\sklearn\\utils\\validation.py:623: FutureWarning: is_sparse is deprecated and will be removed in a future version. Check `isinstance(dtype, pd.SparseDtype)` instead.\n",
      "  if not hasattr(array, \"sparse\") and array.dtypes.apply(is_sparse).any():\n"
     ]
    },
    {
     "data": {
      "text/plain": [
       "<AxesSubplot:xlabel='sentiment', ylabel='count'>"
      ]
     },
     "execution_count": 34,
     "metadata": {},
     "output_type": "execute_result"
    },
    {
     "data": {
      "image/png": "[encoded data removed]",
      "text/plain": [
       "<Figure size 432x288 with 1 Axes>"
      ]
     },
     "metadata": {
      "needs_background": "light"
     },
     "output_type": "display_data"
    }
   ],
   "source": [
    "#smote the data:\n",
    "from imblearn.over_sampling import SMOTE\n",
    "\n",
    "resampler=SMOTE(random_state=0)\n",
    "X_train_smote,y_train_smote=resampler.fit_resample(X_train,y_train)\n",
    "\n",
    "sns.countplot(x=y_train_smote)"
   ]
  },
  {
   "cell_type": "code",
   "execution_count": 39,
   "metadata": {
    "colab": {
     "base_uri": "https://localhost:8080/",
     "height": 74
    },
    "id": "JbTZj6lJHSmA",
    "outputId": "683ef892-9155-4b1e-ed51-b45125149997"
   },
   "outputs": [
    {
     "name": "stderr",
     "output_type": "stream",
     "text": [
      "D:\\anton\\anaconda\\lib\\site-packages\\sklearn\\utils\\validation.py:623: FutureWarning: is_sparse is deprecated and will be removed in a future version. Check `isinstance(dtype, pd.SparseDtype)` instead.\n",
      "  if not hasattr(array, \"sparse\") and array.dtypes.apply(is_sparse).any():\n"
     ]
    },
    {
     "data": {
      "text/plain": [
       "RandomForestClassifier()"
      ]
     },
     "execution_count": 39,
     "metadata": {},
     "output_type": "execute_result"
    }
   ],
   "source": [
    "#train the model\n",
    "\n",
    "from sklearn.ensemble import RandomForestClassifier\n",
    "\n",
    "model=RandomForestClassifier(n_estimators=100)\n",
    "model.fit(X_train_smote,y_train_smote)"
   ]
  },
  {
   "cell_type": "code",
   "execution_count": 38,
   "metadata": {
    "colab": {
     "base_uri": "https://localhost:8080/"
    },
    "id": "ALfbcf5eHVVI",
    "outputId": "f6e4754a-8dd8-4138-a926-457404592874"
   },
   "outputs": [
    {
     "name": "stderr",
     "output_type": "stream",
     "text": [
      "D:\\anton\\anaconda\\lib\\site-packages\\sklearn\\utils\\validation.py:623: FutureWarning: is_sparse is deprecated and will be removed in a future version. Check `isinstance(dtype, pd.SparseDtype)` instead.\n",
      "  if not hasattr(array, \"sparse\") and array.dtypes.apply(is_sparse).any():\n"
     ]
    },
    {
     "name": "stdout",
     "output_type": "stream",
     "text": [
      "accuracy: 0.89\n",
      "Confusion Matrix:\n",
      "[[299  25   9]\n",
      " [ 36 199   4]\n",
      " [ 50  13 571]] \n",
      "\n",
      "\n",
      "-----------------------------\n",
      "Classification Report: \n",
      "\n",
      "              precision    recall  f1-score   support\n",
      "\n",
      "    negative       0.78      0.90      0.83       333\n",
      "     neutral       0.84      0.83      0.84       239\n",
      "    positive       0.98      0.90      0.94       634\n",
      "\n",
      "    accuracy                           0.89      1206\n",
      "   macro avg       0.86      0.88      0.87      1206\n",
      "weighted avg       0.89      0.89      0.89      1206\n",
      "\n"
     ]
    }
   ],
   "source": [
    "y_pred=model.predict(X_test)\n",
    "\n",
    "from sklearn import metrics\n",
    "acc=metrics.accuracy_score(y_test,y_pred)\n",
    "print('accuracy:',round(acc,2))\n",
    "cm=metrics.confusion_matrix(y_test,y_pred)\n",
    "print('Confusion Matrix:')\n",
    "print(cm,'\\n\\n')\n",
    "print('-----------------------------')\n",
    "result= metrics.classification_report(y_test,y_pred)\n",
    "print('Classification Report: \\n',)\n",
    "print(result)"
   ]
  },
  {
   "cell_type": "code",
   "execution_count": null,
   "metadata": {
    "id": "iZ-G9Wn0HX1U"
   },
   "outputs": [],
   "source": []
  },
  {
   "cell_type": "code",
   "execution_count": null,
   "metadata": {
    "id": "qGaS-m8mHpi8"
   },
   "outputs": [],
   "source": []
  },
  {
   "cell_type": "code",
   "execution_count": null,
   "metadata": {},
   "outputs": [],
   "source": []
  },
  {
   "cell_type": "code",
   "execution_count": null,
   "metadata": {},
   "outputs": [],
   "source": []
  },
  {
   "cell_type": "code",
   "execution_count": null,
   "metadata": {},
   "outputs": [],
   "source": []
  },
  {
   "cell_type": "code",
   "execution_count": null,
   "metadata": {},
   "outputs": [],
   "source": []
  },
  {
   "cell_type": "code",
   "execution_count": null,
   "metadata": {},
   "outputs": [],
   "source": []
  }
 ],
 "metadata": {
  "colab": {
   "provenance": []
  },
  "kernelspec": {
   "display_name": "Python 3 (ipykernel)",
   "language": "python",
   "name": "python3"
  },
  "language_info": {
   "codemirror_mode": {
    "name": "ipython",
    "version": 3
   },
   "file_extension": ".py",
   "mimetype": "text/x-python",
   "name": "python",
   "nbconvert_exporter": "python",
   "pygments_lexer": "ipython3",
   "version": "3.9.12"
  }
 },
 "nbformat": 4,
 "nbformat_minor": 1
}
